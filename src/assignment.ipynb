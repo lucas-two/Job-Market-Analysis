{
 "cells": [
  {
   "cell_type": "markdown",
   "metadata": {},
   "source": [
    "# Assignment 1: Job Market Analysis"
   ]
  },
  {
   "cell_type": "markdown",
   "metadata": {},
   "source": [
    "## Part 1 - Data Preperation and Preprocesing"
   ]
  },
  {
   "cell_type": "code",
   "execution_count": 216,
   "metadata": {},
   "outputs": [],
   "source": [
    "# Import libraries\n",
    "import pandas as pd\n",
    "import numpy as np\n",
    "from sklearn.preprocessing import StandardScaler\n",
    "import matplotlib.pyplot as plt\n",
    "import seaborn as sns\n",
    "%matplotlib inline"
   ]
  },
  {
   "cell_type": "code",
   "execution_count": 217,
   "metadata": {},
   "outputs": [],
   "source": [
    "# Importing data\n",
    "df = pd.read_csv(\"data.csv\", low_memory=False)"
   ]
  },
  {
   "cell_type": "code",
   "execution_count": 218,
   "metadata": {},
   "outputs": [
    {
     "data": {
      "text/html": [
       "<div>\n",
       "<style scoped>\n",
       "    .dataframe tbody tr th:only-of-type {\n",
       "        vertical-align: middle;\n",
       "    }\n",
       "\n",
       "    .dataframe tbody tr th {\n",
       "        vertical-align: top;\n",
       "    }\n",
       "\n",
       "    .dataframe thead th {\n",
       "        text-align: right;\n",
       "    }\n",
       "</style>\n",
       "<table border=\"1\" class=\"dataframe\">\n",
       "  <thead>\n",
       "    <tr style=\"text-align: right;\">\n",
       "      <th></th>\n",
       "      <th>Id</th>\n",
       "      <th>Title</th>\n",
       "      <th>Company</th>\n",
       "      <th>Date</th>\n",
       "      <th>Location</th>\n",
       "      <th>Area</th>\n",
       "      <th>Classification</th>\n",
       "      <th>SubClassification</th>\n",
       "      <th>Requirement</th>\n",
       "      <th>FullDescription</th>\n",
       "      <th>LowestSalary</th>\n",
       "      <th>HighestSalary</th>\n",
       "      <th>JobType</th>\n",
       "    </tr>\n",
       "  </thead>\n",
       "  <tbody>\n",
       "    <tr>\n",
       "      <th>0</th>\n",
       "      <td>37404348</td>\n",
       "      <td>Casual Stock Replenisher</td>\n",
       "      <td>Aldi Stores</td>\n",
       "      <td>2018-10-07T00:00:00.000Z</td>\n",
       "      <td>Sydney</td>\n",
       "      <td>North West &amp; Hills District</td>\n",
       "      <td>Retail &amp; Consumer Products</td>\n",
       "      <td>Retail Assistants</td>\n",
       "      <td>Our Casual Stock Replenishers pride themselves...</td>\n",
       "      <td>NaN</td>\n",
       "      <td>0</td>\n",
       "      <td>30</td>\n",
       "      <td>NaN</td>\n",
       "    </tr>\n",
       "    <tr>\n",
       "      <th>1</th>\n",
       "      <td>37404337</td>\n",
       "      <td>Casual Stock Replenisher</td>\n",
       "      <td>Aldi Stores</td>\n",
       "      <td>2018-10-07T00:00:00.000Z</td>\n",
       "      <td>Richmond &amp; Hawkesbury</td>\n",
       "      <td>NaN</td>\n",
       "      <td>Retail &amp; Consumer Products</td>\n",
       "      <td>Retail Assistants</td>\n",
       "      <td>Our Casual Stock Replenishers pride themselves...</td>\n",
       "      <td>NaN</td>\n",
       "      <td>0</td>\n",
       "      <td>30</td>\n",
       "      <td>NaN</td>\n",
       "    </tr>\n",
       "    <tr>\n",
       "      <th>2</th>\n",
       "      <td>37404356</td>\n",
       "      <td>RETAIL SALES SUPERSTARS and STYLISTS Wanted - ...</td>\n",
       "      <td>LB Creative Pty Ltd</td>\n",
       "      <td>2018-10-07T00:00:00.000Z</td>\n",
       "      <td>Brisbane</td>\n",
       "      <td>CBD &amp; Inner Suburbs</td>\n",
       "      <td>Retail &amp; Consumer Products</td>\n",
       "      <td>Retail Assistants</td>\n",
       "      <td>BRAND NEW FLAGSHIP STORE OPENING - SUNSHINE PLAZA</td>\n",
       "      <td>NaN</td>\n",
       "      <td>0</td>\n",
       "      <td>30</td>\n",
       "      <td>NaN</td>\n",
       "    </tr>\n",
       "    <tr>\n",
       "      <th>3</th>\n",
       "      <td>37404330</td>\n",
       "      <td>Team member - Belrose</td>\n",
       "      <td>Anaconda Group Pty Ltd</td>\n",
       "      <td>2018-10-07T00:00:00.000Z</td>\n",
       "      <td>Gosford &amp; Central Coast</td>\n",
       "      <td>NaN</td>\n",
       "      <td>Retail &amp; Consumer Products</td>\n",
       "      <td>Retail Assistants</td>\n",
       "      <td>Bring it on - do you love the great outdoors a...</td>\n",
       "      <td>NaN</td>\n",
       "      <td>0</td>\n",
       "      <td>30</td>\n",
       "      <td>NaN</td>\n",
       "    </tr>\n",
       "    <tr>\n",
       "      <th>4</th>\n",
       "      <td>37404308</td>\n",
       "      <td>Business Banking Contact Centre Specialist, Ni...</td>\n",
       "      <td>Commonwealth Bank - Business &amp; Private Banking</td>\n",
       "      <td>2018-10-07T00:00:00.000Z</td>\n",
       "      <td>Sydney</td>\n",
       "      <td>Ryde &amp; Macquarie Park</td>\n",
       "      <td>Call Centre &amp; Customer Service</td>\n",
       "      <td>Sales - Inbound</td>\n",
       "      <td>We are seeking highly articulate, enthusiastic...</td>\n",
       "      <td>NaN</td>\n",
       "      <td>0</td>\n",
       "      <td>30</td>\n",
       "      <td>NaN</td>\n",
       "    </tr>\n",
       "  </tbody>\n",
       "</table>\n",
       "</div>"
      ],
      "text/plain": [
       "         Id                                              Title  \\\n",
       "0  37404348                           Casual Stock Replenisher   \n",
       "1  37404337                           Casual Stock Replenisher   \n",
       "2  37404356  RETAIL SALES SUPERSTARS and STYLISTS Wanted - ...   \n",
       "3  37404330                              Team member - Belrose   \n",
       "4  37404308  Business Banking Contact Centre Specialist, Ni...   \n",
       "\n",
       "                                          Company                      Date  \\\n",
       "0                                     Aldi Stores  2018-10-07T00:00:00.000Z   \n",
       "1                                     Aldi Stores  2018-10-07T00:00:00.000Z   \n",
       "2                             LB Creative Pty Ltd  2018-10-07T00:00:00.000Z   \n",
       "3                          Anaconda Group Pty Ltd  2018-10-07T00:00:00.000Z   \n",
       "4  Commonwealth Bank - Business & Private Banking  2018-10-07T00:00:00.000Z   \n",
       "\n",
       "                  Location                         Area  \\\n",
       "0                   Sydney  North West & Hills District   \n",
       "1    Richmond & Hawkesbury                          NaN   \n",
       "2                 Brisbane          CBD & Inner Suburbs   \n",
       "3  Gosford & Central Coast                          NaN   \n",
       "4                   Sydney        Ryde & Macquarie Park   \n",
       "\n",
       "                   Classification  SubClassification  \\\n",
       "0      Retail & Consumer Products  Retail Assistants   \n",
       "1      Retail & Consumer Products  Retail Assistants   \n",
       "2      Retail & Consumer Products  Retail Assistants   \n",
       "3      Retail & Consumer Products  Retail Assistants   \n",
       "4  Call Centre & Customer Service    Sales - Inbound   \n",
       "\n",
       "                                         Requirement FullDescription  \\\n",
       "0  Our Casual Stock Replenishers pride themselves...             NaN   \n",
       "1  Our Casual Stock Replenishers pride themselves...             NaN   \n",
       "2  BRAND NEW FLAGSHIP STORE OPENING - SUNSHINE PLAZA             NaN   \n",
       "3  Bring it on - do you love the great outdoors a...             NaN   \n",
       "4  We are seeking highly articulate, enthusiastic...             NaN   \n",
       "\n",
       "   LowestSalary  HighestSalary JobType  \n",
       "0             0             30     NaN  \n",
       "1             0             30     NaN  \n",
       "2             0             30     NaN  \n",
       "3             0             30     NaN  \n",
       "4             0             30     NaN  "
      ]
     },
     "execution_count": 218,
     "metadata": {},
     "output_type": "execute_result"
    }
   ],
   "source": [
    "# Display head of the data\n",
    "df.head()"
   ]
  },
  {
   "cell_type": "code",
   "execution_count": 219,
   "metadata": {},
   "outputs": [
    {
     "name": "stdout",
     "output_type": "stream",
     "text": [
      "DataFrame shape:\n",
      "\n",
      "(318477, 13)\n"
     ]
    }
   ],
   "source": [
    "# Display the shape of the dataset\n",
    "print(\"DataFrame shape:\\n\")\n",
    "print(df.shape)"
   ]
  },
  {
   "cell_type": "code",
   "execution_count": 220,
   "metadata": {
    "scrolled": true
   },
   "outputs": [
    {
     "name": "stdout",
     "output_type": "stream",
     "text": [
      "Column datatypes:\n",
      "\n",
      "Id                   object\n",
      "Title                object\n",
      "Company              object\n",
      "Date                 object\n",
      "Location             object\n",
      "Area                 object\n",
      "Classification       object\n",
      "SubClassification    object\n",
      "Requirement          object\n",
      "FullDescription      object\n",
      "LowestSalary          int64\n",
      "HighestSalary         int64\n",
      "JobType              object\n",
      "dtype: object\n"
     ]
    }
   ],
   "source": [
    "# Display the datatypes of each column\n",
    "print(\"Column datatypes:\\n\")\n",
    "print(df.dtypes)"
   ]
  },
  {
   "cell_type": "code",
   "execution_count": 221,
   "metadata": {},
   "outputs": [
    {
     "name": "stdout",
     "output_type": "stream",
     "text": [
      "NULL values:\n",
      "\n",
      "Id                        0\n",
      "Title                     0\n",
      "Company               12004\n",
      "Date                      0\n",
      "Location             121248\n",
      "Area                 195819\n",
      "Classification       121248\n",
      "SubClassification    121248\n",
      "Requirement               7\n",
      "FullDescription       16175\n",
      "LowestSalary              0\n",
      "HighestSalary             0\n",
      "JobType               16098\n",
      "dtype: int64\n"
     ]
    }
   ],
   "source": [
    "# Check for null values and display them\n",
    "print(\"NULL values:\\n\")\n",
    "print(df.isnull().sum())"
   ]
  },
  {
   "cell_type": "code",
   "execution_count": 222,
   "metadata": {},
   "outputs": [
    {
     "name": "stdout",
     "output_type": "stream",
     "text": [
      "Change date datatype:\n",
      "\n",
      "Original:\n",
      "2018-10-07T00:00:00.000Z \n",
      "\n",
      "New:\n",
      "2018-10-07 00:00:00\n"
     ]
    }
   ],
   "source": [
    "# Simplifying date datatype\n",
    "print(\"Change date datatype:\\n\")\n",
    "\n",
    "print(\"Original:\")\n",
    "print(df['Date'][0],\"\\n\")\n",
    "\n",
    "# Changing date datatype\n",
    "df['Date'] = df['Date'].astype('datetime64[ns]')\n",
    "\n",
    "print(\"New:\")\n",
    "print(df['Date'][0])"
   ]
  },
  {
   "cell_type": "code",
   "execution_count": 223,
   "metadata": {},
   "outputs": [
    {
     "data": {
      "text/plain": [
       "'\"\\n# Changing ID datatype\\n\\n# Some IDs have not been entered correctly, eg: \\'37915260&searchrequesttoken=e859cc74-e22f-498d-ac7c-77a7e1b45676\\'\\n# Need to trim the first 8 characters before converting to int\\n\\ndf[\\'Id\\'] = df[\\'Id\\'].str[:8].astype(\\'int64\\')\\n'"
      ]
     },
     "execution_count": 223,
     "metadata": {},
     "output_type": "execute_result"
    }
   ],
   "source": [
    "# Seems like removing the IDs reveals a bunch of duplicate data so I've just commented this out for now.\n",
    "\"\"\"\"\n",
    "# Changing ID datatype\n",
    "\n",
    "# Some IDs have not been entered correctly, eg: '37915260&searchrequesttoken=e859cc74-e22f-498d-ac7c-77a7e1b45676'\n",
    "# Need to trim the first 8 characters before converting to int\n",
    "\n",
    "df['Id'] = df['Id'].str[:8].astype('int64')\n",
    "\"\"\""
   ]
  },
  {
   "cell_type": "code",
   "execution_count": 224,
   "metadata": {},
   "outputs": [],
   "source": [
    "# Remove the Id and FullDescription column\n",
    "df = df.drop('Id', axis=1)\n",
    "df = df.drop('FullDescription', axis=1)"
   ]
  },
  {
   "cell_type": "code",
   "execution_count": 252,
   "metadata": {},
   "outputs": [
    {
     "name": "stdout",
     "output_type": "stream",
     "text": [
      "Removing Classification & Location NaN values:\n",
      "\n",
      "No. of records: 196039\n",
      "No. of records (removing Classification NaNs): 196039\n",
      "No. of records (removing Location NaNs): 196039\n"
     ]
    }
   ],
   "source": [
    "# Removing NaN values\n",
    "print(\"Removing Classification & Location NaN values:\\n\")\n",
    "print(\"No. of records:\", df.shape[0])\n",
    "df.dropna(subset = [\"Classification\"], inplace=True)\n",
    "print(\"No. of records (removing Classification NaNs):\", df.shape[0])\n",
    "df.dropna(subset = [\"Location\"], inplace=True)\n",
    "print(\"No. of records (removing Location NaNs):\", df.shape[0])"
   ]
  },
  {
   "cell_type": "code",
   "execution_count": 226,
   "metadata": {},
   "outputs": [
    {
     "name": "stdout",
     "output_type": "stream",
     "text": [
      "Removing Duplicates:\n",
      "\n",
      "No. of duplicates: 1190 (before)\n",
      "No. of duplicates: 0 (after)\n"
     ]
    }
   ],
   "source": [
    "# Removing duplicate data\n",
    "print(\"Removing Duplicates:\\n\")\n",
    "\n",
    "# Check for duplicates\n",
    "print(\"No. of duplicates:\", df[df.duplicated()].shape[0], \"(before)\")\n",
    "\n",
    "# Remove duplicates:\n",
    "df.drop_duplicates(inplace=True)\n",
    "\n",
    "# Re-check for duplicates\n",
    "print(\"No. of duplicates:\", df[df.duplicated()].shape[0], \"(after)\")"
   ]
  },
  {
   "cell_type": "code",
   "execution_count": 227,
   "metadata": {},
   "outputs": [
    {
     "name": "stdout",
     "output_type": "stream",
     "text": [
      "Total jobs: 196039 \n",
      "\n",
      "Lowest $0 jobs: 38317\n",
      "(19.55% of jobs)\n",
      "\n",
      "Highest $999k jobs: 8425\n",
      "(4.30% of jobs)\n",
      "\n",
      "Both Lowest $0 and Highest $999k jobs: 0\n",
      "(0.00% of jobs)\n"
     ]
    }
   ],
   "source": [
    "# How many jobs do we have in total?\n",
    "total_jobs = df.shape[0]\n",
    "\n",
    "# How many jobs have lowest salary equal to $0?\n",
    "lowest_size = df[(df['LowestSalary'] == 0)].shape[0]\n",
    "\n",
    "# How many jobs have highest salary equal to $999k?\n",
    "highest_size = df[(df['HighestSalary'] == 999)].shape[0]\n",
    "\n",
    "# How many jobs have both the highest and lowest salary ($0k - $999k)\n",
    "both_size = df[(df['HighestSalary'] == 999) & (df['LowestSalary'] == 0)].shape[0]\n",
    "\n",
    "print(\"Total jobs:\", total_jobs, \"\\n\")\n",
    "      \n",
    "print(\"Lowest $0 jobs: %d\" % lowest_size)\n",
    "print(\"(%.2f%% of jobs)\\n\" % (lowest_size / total_jobs * 100))\n",
    "      \n",
    "print(\"Highest $999k jobs: %d\" % highest_size)\n",
    "print(\"(%.2f%% of jobs)\\n\" % (highest_size / total_jobs * 100))\n",
    "\n",
    "print(\"Both Lowest $0 and Highest $999k jobs: %d\" % both_size)\n",
    "print(\"(%.2f%% of jobs)\" % (both_size / total_jobs * 100))"
   ]
  },
  {
   "cell_type": "code",
   "execution_count": 228,
   "metadata": {},
   "outputs": [],
   "source": [
    "# Creating column for average salary\n",
    "# The SEEK listing allows us to search listings from 30k -> 200k+\n",
    "# Thus we will increase 0k salaries to 15k and 999k salaries to 300k to keep it closer to these amounts.\n",
    "\n",
    "df.loc[df['LowestSalary'] == 0, 'LowestSalary'] = 15\n",
    "df.loc[df['HighestSalary'] == 999, 'HighestSalary'] = 300\n",
    "\n",
    "# Create row for average salary (Mean of Lowest and Highest salary)\n",
    "df['AvgSalary'] = (df['LowestSalary'] + df['HighestSalary']) / 2\n",
    "\n",
    "# Multiply our salaries by 1000 (1 = 1k so we want 1 = 1000)\n",
    "df['LowestSalary'] = df['LowestSalary'] * 1000\n",
    "df['HighestSalary'] = df['HighestSalary'] * 1000\n",
    "df['AvgSalary'] = df['AvgSalary'] * 1000\n",
    "\n",
    "# Convert our AvgSalary from float -> int\n",
    "df['AvgSalary'] = df['AvgSalary'].astype('Int64')"
   ]
  },
  {
   "cell_type": "code",
   "execution_count": 229,
   "metadata": {},
   "outputs": [
    {
     "data": {
      "text/html": [
       "<div>\n",
       "<style scoped>\n",
       "    .dataframe tbody tr th:only-of-type {\n",
       "        vertical-align: middle;\n",
       "    }\n",
       "\n",
       "    .dataframe tbody tr th {\n",
       "        vertical-align: top;\n",
       "    }\n",
       "\n",
       "    .dataframe thead th {\n",
       "        text-align: right;\n",
       "    }\n",
       "</style>\n",
       "<table border=\"1\" class=\"dataframe\">\n",
       "  <thead>\n",
       "    <tr style=\"text-align: right;\">\n",
       "      <th></th>\n",
       "      <th>Title</th>\n",
       "      <th>Company</th>\n",
       "      <th>Date</th>\n",
       "      <th>Location</th>\n",
       "      <th>Area</th>\n",
       "      <th>Classification</th>\n",
       "      <th>SubClassification</th>\n",
       "      <th>Requirement</th>\n",
       "      <th>LowestSalary</th>\n",
       "      <th>HighestSalary</th>\n",
       "      <th>JobType</th>\n",
       "      <th>AvgSalary</th>\n",
       "    </tr>\n",
       "  </thead>\n",
       "  <tbody>\n",
       "    <tr>\n",
       "      <th>0</th>\n",
       "      <td>Casual Stock Replenisher</td>\n",
       "      <td>Aldi Stores</td>\n",
       "      <td>2018-10-07</td>\n",
       "      <td>Sydney</td>\n",
       "      <td>North West &amp; Hills District</td>\n",
       "      <td>Retail &amp; Consumer Products</td>\n",
       "      <td>Retail Assistants</td>\n",
       "      <td>Our Casual Stock Replenishers pride themselves...</td>\n",
       "      <td>15000</td>\n",
       "      <td>30000</td>\n",
       "      <td>NaN</td>\n",
       "      <td>22500</td>\n",
       "    </tr>\n",
       "    <tr>\n",
       "      <th>1</th>\n",
       "      <td>Casual Stock Replenisher</td>\n",
       "      <td>Aldi Stores</td>\n",
       "      <td>2018-10-07</td>\n",
       "      <td>Richmond &amp; Hawkesbury</td>\n",
       "      <td>NaN</td>\n",
       "      <td>Retail &amp; Consumer Products</td>\n",
       "      <td>Retail Assistants</td>\n",
       "      <td>Our Casual Stock Replenishers pride themselves...</td>\n",
       "      <td>15000</td>\n",
       "      <td>30000</td>\n",
       "      <td>NaN</td>\n",
       "      <td>22500</td>\n",
       "    </tr>\n",
       "    <tr>\n",
       "      <th>2</th>\n",
       "      <td>RETAIL SALES SUPERSTARS and STYLISTS Wanted - ...</td>\n",
       "      <td>LB Creative Pty Ltd</td>\n",
       "      <td>2018-10-07</td>\n",
       "      <td>Brisbane</td>\n",
       "      <td>CBD &amp; Inner Suburbs</td>\n",
       "      <td>Retail &amp; Consumer Products</td>\n",
       "      <td>Retail Assistants</td>\n",
       "      <td>BRAND NEW FLAGSHIP STORE OPENING - SUNSHINE PLAZA</td>\n",
       "      <td>15000</td>\n",
       "      <td>30000</td>\n",
       "      <td>NaN</td>\n",
       "      <td>22500</td>\n",
       "    </tr>\n",
       "    <tr>\n",
       "      <th>3</th>\n",
       "      <td>Team member - Belrose</td>\n",
       "      <td>Anaconda Group Pty Ltd</td>\n",
       "      <td>2018-10-07</td>\n",
       "      <td>Gosford &amp; Central Coast</td>\n",
       "      <td>NaN</td>\n",
       "      <td>Retail &amp; Consumer Products</td>\n",
       "      <td>Retail Assistants</td>\n",
       "      <td>Bring it on - do you love the great outdoors a...</td>\n",
       "      <td>15000</td>\n",
       "      <td>30000</td>\n",
       "      <td>NaN</td>\n",
       "      <td>22500</td>\n",
       "    </tr>\n",
       "    <tr>\n",
       "      <th>4</th>\n",
       "      <td>Business Banking Contact Centre Specialist, Ni...</td>\n",
       "      <td>Commonwealth Bank - Business &amp; Private Banking</td>\n",
       "      <td>2018-10-07</td>\n",
       "      <td>Sydney</td>\n",
       "      <td>Ryde &amp; Macquarie Park</td>\n",
       "      <td>Call Centre &amp; Customer Service</td>\n",
       "      <td>Sales - Inbound</td>\n",
       "      <td>We are seeking highly articulate, enthusiastic...</td>\n",
       "      <td>15000</td>\n",
       "      <td>30000</td>\n",
       "      <td>NaN</td>\n",
       "      <td>22500</td>\n",
       "    </tr>\n",
       "    <tr>\n",
       "      <th>5</th>\n",
       "      <td>Business Banking Contact Centre Specialist, Ni...</td>\n",
       "      <td>Commonwealth Bank - Business &amp; Private Banking</td>\n",
       "      <td>2018-10-07</td>\n",
       "      <td>Sydney</td>\n",
       "      <td>Ryde &amp; Macquarie Park</td>\n",
       "      <td>Call Centre &amp; Customer Service</td>\n",
       "      <td>Customer Service - Call Centre</td>\n",
       "      <td>We are seeking highly articulate, enthusiastic...</td>\n",
       "      <td>15000</td>\n",
       "      <td>30000</td>\n",
       "      <td>NaN</td>\n",
       "      <td>22500</td>\n",
       "    </tr>\n",
       "    <tr>\n",
       "      <th>6</th>\n",
       "      <td>Casual Café All-rounder in Semaphore</td>\n",
       "      <td>Jora Local</td>\n",
       "      <td>2018-10-07</td>\n",
       "      <td>Adelaide</td>\n",
       "      <td>NaN</td>\n",
       "      <td>Hospitality &amp; Tourism</td>\n",
       "      <td>Waiting Staff</td>\n",
       "      <td>A cafe/restaurant in Semaphore is seeking a ca...</td>\n",
       "      <td>15000</td>\n",
       "      <td>30000</td>\n",
       "      <td>NaN</td>\n",
       "      <td>22500</td>\n",
       "    </tr>\n",
       "  </tbody>\n",
       "</table>\n",
       "</div>"
      ],
      "text/plain": [
       "                                               Title  \\\n",
       "0                           Casual Stock Replenisher   \n",
       "1                           Casual Stock Replenisher   \n",
       "2  RETAIL SALES SUPERSTARS and STYLISTS Wanted - ...   \n",
       "3                              Team member - Belrose   \n",
       "4  Business Banking Contact Centre Specialist, Ni...   \n",
       "5  Business Banking Contact Centre Specialist, Ni...   \n",
       "6               Casual Café All-rounder in Semaphore   \n",
       "\n",
       "                                          Company       Date  \\\n",
       "0                                     Aldi Stores 2018-10-07   \n",
       "1                                     Aldi Stores 2018-10-07   \n",
       "2                             LB Creative Pty Ltd 2018-10-07   \n",
       "3                          Anaconda Group Pty Ltd 2018-10-07   \n",
       "4  Commonwealth Bank - Business & Private Banking 2018-10-07   \n",
       "5  Commonwealth Bank - Business & Private Banking 2018-10-07   \n",
       "6                                      Jora Local 2018-10-07   \n",
       "\n",
       "                  Location                         Area  \\\n",
       "0                   Sydney  North West & Hills District   \n",
       "1    Richmond & Hawkesbury                          NaN   \n",
       "2                 Brisbane          CBD & Inner Suburbs   \n",
       "3  Gosford & Central Coast                          NaN   \n",
       "4                   Sydney        Ryde & Macquarie Park   \n",
       "5                   Sydney        Ryde & Macquarie Park   \n",
       "6                 Adelaide                          NaN   \n",
       "\n",
       "                   Classification               SubClassification  \\\n",
       "0      Retail & Consumer Products               Retail Assistants   \n",
       "1      Retail & Consumer Products               Retail Assistants   \n",
       "2      Retail & Consumer Products               Retail Assistants   \n",
       "3      Retail & Consumer Products               Retail Assistants   \n",
       "4  Call Centre & Customer Service                 Sales - Inbound   \n",
       "5  Call Centre & Customer Service  Customer Service - Call Centre   \n",
       "6           Hospitality & Tourism                   Waiting Staff   \n",
       "\n",
       "                                         Requirement  LowestSalary  \\\n",
       "0  Our Casual Stock Replenishers pride themselves...         15000   \n",
       "1  Our Casual Stock Replenishers pride themselves...         15000   \n",
       "2  BRAND NEW FLAGSHIP STORE OPENING - SUNSHINE PLAZA         15000   \n",
       "3  Bring it on - do you love the great outdoors a...         15000   \n",
       "4  We are seeking highly articulate, enthusiastic...         15000   \n",
       "5  We are seeking highly articulate, enthusiastic...         15000   \n",
       "6  A cafe/restaurant in Semaphore is seeking a ca...         15000   \n",
       "\n",
       "   HighestSalary JobType  AvgSalary  \n",
       "0          30000     NaN      22500  \n",
       "1          30000     NaN      22500  \n",
       "2          30000     NaN      22500  \n",
       "3          30000     NaN      22500  \n",
       "4          30000     NaN      22500  \n",
       "5          30000     NaN      22500  \n",
       "6          30000     NaN      22500  "
      ]
     },
     "execution_count": 229,
     "metadata": {},
     "output_type": "execute_result"
    }
   ],
   "source": [
    "# See our new column\n",
    "df.head(7)"
   ]
  },
  {
   "cell_type": "code",
   "execution_count": 230,
   "metadata": {},
   "outputs": [
    {
     "name": "stdout",
     "output_type": "stream",
     "text": [
      "Number of Titles containing Area: 8353\n",
      "Number of Titles containing Area: 0\n"
     ]
    }
   ],
   "source": [
    "# Remove area from titles and move to the area column\n",
    "print(\"Number of Titles containing Area:\", df['Title'].str.contains(' in ').sum())\n",
    "\n",
    "df.loc[df['Area'].isnull(), 'Area'] = df['Title'].str.split(' in ').str[1]\n",
    "df.loc[df['Title'].str.contains(' in '), 'Title'] = df['Title'].str.split(' in ').str[0]\n",
    "\n",
    "print(\"Number of Titles containing Area:\", df['Title'].str.contains(' in ').sum())"
   ]
  },
  {
   "cell_type": "code",
   "execution_count": 231,
   "metadata": {},
   "outputs": [
    {
     "data": {
      "text/html": [
       "<div>\n",
       "<style scoped>\n",
       "    .dataframe tbody tr th:only-of-type {\n",
       "        vertical-align: middle;\n",
       "    }\n",
       "\n",
       "    .dataframe tbody tr th {\n",
       "        vertical-align: top;\n",
       "    }\n",
       "\n",
       "    .dataframe thead th {\n",
       "        text-align: right;\n",
       "    }\n",
       "</style>\n",
       "<table border=\"1\" class=\"dataframe\">\n",
       "  <thead>\n",
       "    <tr style=\"text-align: right;\">\n",
       "      <th></th>\n",
       "      <th>Title</th>\n",
       "      <th>Company</th>\n",
       "      <th>Date</th>\n",
       "      <th>Location</th>\n",
       "      <th>Area</th>\n",
       "      <th>Classification</th>\n",
       "      <th>SubClassification</th>\n",
       "      <th>Requirement</th>\n",
       "      <th>JobType</th>\n",
       "      <th>LowestSalary</th>\n",
       "      <th>HighestSalary</th>\n",
       "      <th>AvgSalary</th>\n",
       "    </tr>\n",
       "  </thead>\n",
       "  <tbody>\n",
       "    <tr>\n",
       "      <th>0</th>\n",
       "      <td>Casual Stock Replenisher</td>\n",
       "      <td>Aldi Stores</td>\n",
       "      <td>2018-10-07</td>\n",
       "      <td>Sydney</td>\n",
       "      <td>North West &amp; Hills District</td>\n",
       "      <td>Retail &amp; Consumer Products</td>\n",
       "      <td>Retail Assistants</td>\n",
       "      <td>Our Casual Stock Replenishers pride themselves...</td>\n",
       "      <td>NaN</td>\n",
       "      <td>15000</td>\n",
       "      <td>30000</td>\n",
       "      <td>22500</td>\n",
       "    </tr>\n",
       "    <tr>\n",
       "      <th>1</th>\n",
       "      <td>Casual Stock Replenisher</td>\n",
       "      <td>Aldi Stores</td>\n",
       "      <td>2018-10-07</td>\n",
       "      <td>Richmond &amp; Hawkesbury</td>\n",
       "      <td>NaN</td>\n",
       "      <td>Retail &amp; Consumer Products</td>\n",
       "      <td>Retail Assistants</td>\n",
       "      <td>Our Casual Stock Replenishers pride themselves...</td>\n",
       "      <td>NaN</td>\n",
       "      <td>15000</td>\n",
       "      <td>30000</td>\n",
       "      <td>22500</td>\n",
       "    </tr>\n",
       "    <tr>\n",
       "      <th>2</th>\n",
       "      <td>RETAIL SALES SUPERSTARS and STYLISTS Wanted - ...</td>\n",
       "      <td>LB Creative Pty Ltd</td>\n",
       "      <td>2018-10-07</td>\n",
       "      <td>Brisbane</td>\n",
       "      <td>CBD &amp; Inner Suburbs</td>\n",
       "      <td>Retail &amp; Consumer Products</td>\n",
       "      <td>Retail Assistants</td>\n",
       "      <td>BRAND NEW FLAGSHIP STORE OPENING - SUNSHINE PLAZA</td>\n",
       "      <td>NaN</td>\n",
       "      <td>15000</td>\n",
       "      <td>30000</td>\n",
       "      <td>22500</td>\n",
       "    </tr>\n",
       "    <tr>\n",
       "      <th>3</th>\n",
       "      <td>Team member - Belrose</td>\n",
       "      <td>Anaconda Group Pty Ltd</td>\n",
       "      <td>2018-10-07</td>\n",
       "      <td>Gosford &amp; Central Coast</td>\n",
       "      <td>NaN</td>\n",
       "      <td>Retail &amp; Consumer Products</td>\n",
       "      <td>Retail Assistants</td>\n",
       "      <td>Bring it on - do you love the great outdoors a...</td>\n",
       "      <td>NaN</td>\n",
       "      <td>15000</td>\n",
       "      <td>30000</td>\n",
       "      <td>22500</td>\n",
       "    </tr>\n",
       "    <tr>\n",
       "      <th>4</th>\n",
       "      <td>Business Banking Contact Centre Specialist, Ni...</td>\n",
       "      <td>Commonwealth Bank - Business &amp; Private Banking</td>\n",
       "      <td>2018-10-07</td>\n",
       "      <td>Sydney</td>\n",
       "      <td>Ryde &amp; Macquarie Park</td>\n",
       "      <td>Call Centre &amp; Customer Service</td>\n",
       "      <td>Sales - Inbound</td>\n",
       "      <td>We are seeking highly articulate, enthusiastic...</td>\n",
       "      <td>NaN</td>\n",
       "      <td>15000</td>\n",
       "      <td>30000</td>\n",
       "      <td>22500</td>\n",
       "    </tr>\n",
       "  </tbody>\n",
       "</table>\n",
       "</div>"
      ],
      "text/plain": [
       "                                               Title  \\\n",
       "0                           Casual Stock Replenisher   \n",
       "1                           Casual Stock Replenisher   \n",
       "2  RETAIL SALES SUPERSTARS and STYLISTS Wanted - ...   \n",
       "3                              Team member - Belrose   \n",
       "4  Business Banking Contact Centre Specialist, Ni...   \n",
       "\n",
       "                                          Company       Date  \\\n",
       "0                                     Aldi Stores 2018-10-07   \n",
       "1                                     Aldi Stores 2018-10-07   \n",
       "2                             LB Creative Pty Ltd 2018-10-07   \n",
       "3                          Anaconda Group Pty Ltd 2018-10-07   \n",
       "4  Commonwealth Bank - Business & Private Banking 2018-10-07   \n",
       "\n",
       "                  Location                         Area  \\\n",
       "0                   Sydney  North West & Hills District   \n",
       "1    Richmond & Hawkesbury                          NaN   \n",
       "2                 Brisbane          CBD & Inner Suburbs   \n",
       "3  Gosford & Central Coast                          NaN   \n",
       "4                   Sydney        Ryde & Macquarie Park   \n",
       "\n",
       "                   Classification  SubClassification  \\\n",
       "0      Retail & Consumer Products  Retail Assistants   \n",
       "1      Retail & Consumer Products  Retail Assistants   \n",
       "2      Retail & Consumer Products  Retail Assistants   \n",
       "3      Retail & Consumer Products  Retail Assistants   \n",
       "4  Call Centre & Customer Service    Sales - Inbound   \n",
       "\n",
       "                                         Requirement JobType  LowestSalary  \\\n",
       "0  Our Casual Stock Replenishers pride themselves...     NaN         15000   \n",
       "1  Our Casual Stock Replenishers pride themselves...     NaN         15000   \n",
       "2  BRAND NEW FLAGSHIP STORE OPENING - SUNSHINE PLAZA     NaN         15000   \n",
       "3  Bring it on - do you love the great outdoors a...     NaN         15000   \n",
       "4  We are seeking highly articulate, enthusiastic...     NaN         15000   \n",
       "\n",
       "   HighestSalary  AvgSalary  \n",
       "0          30000      22500  \n",
       "1          30000      22500  \n",
       "2          30000      22500  \n",
       "3          30000      22500  \n",
       "4          30000      22500  "
      ]
     },
     "execution_count": 231,
     "metadata": {},
     "output_type": "execute_result"
    }
   ],
   "source": [
    "# move JobType column up the dataframe so that all the salaries are together\n",
    "cols = list(df)\n",
    "cols.insert(8, cols.pop(cols.index('JobType')))\n",
    "df = df.loc[:, cols]\n",
    "df.head()"
   ]
  },
  {
   "cell_type": "code",
   "execution_count": 233,
   "metadata": {},
   "outputs": [],
   "source": [
    "# Normalising the data\n",
    "df_norm = df.copy() # Create a copy of the DataFrame that will be using normalized values\n",
    "\n",
    "columns_to_normalize = ['LowestSalary','HighestSalary','AvgSalary'] # Normalize our columns with int values\n",
    "\n",
    "scaler = StandardScaler() # Declare the standard scaler for normalizing\n",
    "df_norm[columns_to_normalize] = scaler.fit_transform(df_norm[columns_to_normalize]) # Fit and transform our data"
   ]
  },
  {
   "cell_type": "code",
   "execution_count": 234,
   "metadata": {},
   "outputs": [
    {
     "data": {
      "text/html": [
       "<div>\n",
       "<style scoped>\n",
       "    .dataframe tbody tr th:only-of-type {\n",
       "        vertical-align: middle;\n",
       "    }\n",
       "\n",
       "    .dataframe tbody tr th {\n",
       "        vertical-align: top;\n",
       "    }\n",
       "\n",
       "    .dataframe thead th {\n",
       "        text-align: right;\n",
       "    }\n",
       "</style>\n",
       "<table border=\"1\" class=\"dataframe\">\n",
       "  <thead>\n",
       "    <tr style=\"text-align: right;\">\n",
       "      <th></th>\n",
       "      <th>Title</th>\n",
       "      <th>Company</th>\n",
       "      <th>Date</th>\n",
       "      <th>Location</th>\n",
       "      <th>Area</th>\n",
       "      <th>Classification</th>\n",
       "      <th>SubClassification</th>\n",
       "      <th>Requirement</th>\n",
       "      <th>JobType</th>\n",
       "      <th>LowestSalary</th>\n",
       "      <th>HighestSalary</th>\n",
       "      <th>AvgSalary</th>\n",
       "    </tr>\n",
       "  </thead>\n",
       "  <tbody>\n",
       "    <tr>\n",
       "      <th>0</th>\n",
       "      <td>Casual Stock Replenisher</td>\n",
       "      <td>Aldi Stores</td>\n",
       "      <td>2018-10-07</td>\n",
       "      <td>Sydney</td>\n",
       "      <td>North West &amp; Hills District</td>\n",
       "      <td>Retail &amp; Consumer Products</td>\n",
       "      <td>Retail Assistants</td>\n",
       "      <td>Our Casual Stock Replenishers pride themselves...</td>\n",
       "      <td>NaN</td>\n",
       "      <td>-1.107144</td>\n",
       "      <td>-0.901771</td>\n",
       "      <td>-0.991866</td>\n",
       "    </tr>\n",
       "    <tr>\n",
       "      <th>1</th>\n",
       "      <td>Casual Stock Replenisher</td>\n",
       "      <td>Aldi Stores</td>\n",
       "      <td>2018-10-07</td>\n",
       "      <td>Richmond &amp; Hawkesbury</td>\n",
       "      <td>NaN</td>\n",
       "      <td>Retail &amp; Consumer Products</td>\n",
       "      <td>Retail Assistants</td>\n",
       "      <td>Our Casual Stock Replenishers pride themselves...</td>\n",
       "      <td>NaN</td>\n",
       "      <td>-1.107144</td>\n",
       "      <td>-0.901771</td>\n",
       "      <td>-0.991866</td>\n",
       "    </tr>\n",
       "    <tr>\n",
       "      <th>2</th>\n",
       "      <td>RETAIL SALES SUPERSTARS and STYLISTS Wanted - ...</td>\n",
       "      <td>LB Creative Pty Ltd</td>\n",
       "      <td>2018-10-07</td>\n",
       "      <td>Brisbane</td>\n",
       "      <td>CBD &amp; Inner Suburbs</td>\n",
       "      <td>Retail &amp; Consumer Products</td>\n",
       "      <td>Retail Assistants</td>\n",
       "      <td>BRAND NEW FLAGSHIP STORE OPENING - SUNSHINE PLAZA</td>\n",
       "      <td>NaN</td>\n",
       "      <td>-1.107144</td>\n",
       "      <td>-0.901771</td>\n",
       "      <td>-0.991866</td>\n",
       "    </tr>\n",
       "    <tr>\n",
       "      <th>3</th>\n",
       "      <td>Team member - Belrose</td>\n",
       "      <td>Anaconda Group Pty Ltd</td>\n",
       "      <td>2018-10-07</td>\n",
       "      <td>Gosford &amp; Central Coast</td>\n",
       "      <td>NaN</td>\n",
       "      <td>Retail &amp; Consumer Products</td>\n",
       "      <td>Retail Assistants</td>\n",
       "      <td>Bring it on - do you love the great outdoors a...</td>\n",
       "      <td>NaN</td>\n",
       "      <td>-1.107144</td>\n",
       "      <td>-0.901771</td>\n",
       "      <td>-0.991866</td>\n",
       "    </tr>\n",
       "    <tr>\n",
       "      <th>4</th>\n",
       "      <td>Business Banking Contact Centre Specialist, Ni...</td>\n",
       "      <td>Commonwealth Bank - Business &amp; Private Banking</td>\n",
       "      <td>2018-10-07</td>\n",
       "      <td>Sydney</td>\n",
       "      <td>Ryde &amp; Macquarie Park</td>\n",
       "      <td>Call Centre &amp; Customer Service</td>\n",
       "      <td>Sales - Inbound</td>\n",
       "      <td>We are seeking highly articulate, enthusiastic...</td>\n",
       "      <td>NaN</td>\n",
       "      <td>-1.107144</td>\n",
       "      <td>-0.901771</td>\n",
       "      <td>-0.991866</td>\n",
       "    </tr>\n",
       "    <tr>\n",
       "      <th>...</th>\n",
       "      <td>...</td>\n",
       "      <td>...</td>\n",
       "      <td>...</td>\n",
       "      <td>...</td>\n",
       "      <td>...</td>\n",
       "      <td>...</td>\n",
       "      <td>...</td>\n",
       "      <td>...</td>\n",
       "      <td>...</td>\n",
       "      <td>...</td>\n",
       "      <td>...</td>\n",
       "      <td>...</td>\n",
       "    </tr>\n",
       "    <tr>\n",
       "      <th>197224</th>\n",
       "      <td>Environmental Officer- Contaminated Land</td>\n",
       "      <td>Evolve Scientific Recruitment</td>\n",
       "      <td>2018-11-29</td>\n",
       "      <td>Melbourne</td>\n",
       "      <td>NaN</td>\n",
       "      <td>Science &amp; Technology</td>\n",
       "      <td>Food Technology &amp; Safety</td>\n",
       "      <td>Environmental Officer- Contaminated Land | 3-4...</td>\n",
       "      <td>Full Time</td>\n",
       "      <td>2.689609</td>\n",
       "      <td>3.157124</td>\n",
       "      <td>2.969231</td>\n",
       "    </tr>\n",
       "    <tr>\n",
       "      <th>197225</th>\n",
       "      <td>Construction Manager Required - Commercial &amp; A...</td>\n",
       "      <td>Constructive Recruitment Pty Ltd</td>\n",
       "      <td>2018-11-29</td>\n",
       "      <td>Melbourne</td>\n",
       "      <td>CBD &amp; Inner Suburbs</td>\n",
       "      <td>Construction</td>\n",
       "      <td>Project Management</td>\n",
       "      <td>Career defining role with buoyant commercial/a...</td>\n",
       "      <td>Full Time</td>\n",
       "      <td>2.689609</td>\n",
       "      <td>3.157124</td>\n",
       "      <td>2.969231</td>\n",
       "    </tr>\n",
       "    <tr>\n",
       "      <th>197226</th>\n",
       "      <td>ENT Surgeon</td>\n",
       "      <td>Healthcare Professionals Group</td>\n",
       "      <td>2018-11-29</td>\n",
       "      <td>Newcastle, Maitland &amp; Hunter</td>\n",
       "      <td>NaN</td>\n",
       "      <td>Healthcare &amp; Medical</td>\n",
       "      <td>Medical Specialists</td>\n",
       "      <td>Responsible for providing surgical procedures ...</td>\n",
       "      <td>Full Time</td>\n",
       "      <td>2.689609</td>\n",
       "      <td>3.157124</td>\n",
       "      <td>2.969231</td>\n",
       "    </tr>\n",
       "    <tr>\n",
       "      <th>197227</th>\n",
       "      <td>Orthopaedic Surgeon</td>\n",
       "      <td>Healthcare Professionals Group</td>\n",
       "      <td>2018-11-29</td>\n",
       "      <td>Port Macquarie &amp; Mid North Coast</td>\n",
       "      <td>NaN</td>\n",
       "      <td>Healthcare &amp; Medical</td>\n",
       "      <td>Medical Specialists</td>\n",
       "      <td>Provide your expertise as an Orthopaedic Surge...</td>\n",
       "      <td>Full Time</td>\n",
       "      <td>2.689609</td>\n",
       "      <td>3.157124</td>\n",
       "      <td>2.969231</td>\n",
       "    </tr>\n",
       "    <tr>\n",
       "      <th>197228</th>\n",
       "      <td>VMWare Engineer</td>\n",
       "      <td>HEADWAY INFORMATION SERVICES PTY LTD</td>\n",
       "      <td>2018-11-29</td>\n",
       "      <td>Brisbane</td>\n",
       "      <td>Southern Suburbs &amp; Logan</td>\n",
       "      <td>Information &amp; Communication Technology</td>\n",
       "      <td>Networks &amp; Systems Administration</td>\n",
       "      <td>VMware Engineer needed for a VmWare Migration ...</td>\n",
       "      <td>NaN</td>\n",
       "      <td>2.689609</td>\n",
       "      <td>3.157124</td>\n",
       "      <td>2.969231</td>\n",
       "    </tr>\n",
       "  </tbody>\n",
       "</table>\n",
       "<p>196039 rows × 12 columns</p>\n",
       "</div>"
      ],
      "text/plain": [
       "                                                    Title  \\\n",
       "0                                Casual Stock Replenisher   \n",
       "1                                Casual Stock Replenisher   \n",
       "2       RETAIL SALES SUPERSTARS and STYLISTS Wanted - ...   \n",
       "3                                   Team member - Belrose   \n",
       "4       Business Banking Contact Centre Specialist, Ni...   \n",
       "...                                                   ...   \n",
       "197224           Environmental Officer- Contaminated Land   \n",
       "197225  Construction Manager Required - Commercial & A...   \n",
       "197226                                        ENT Surgeon   \n",
       "197227                                Orthopaedic Surgeon   \n",
       "197228                                    VMWare Engineer   \n",
       "\n",
       "                                               Company       Date  \\\n",
       "0                                          Aldi Stores 2018-10-07   \n",
       "1                                          Aldi Stores 2018-10-07   \n",
       "2                                  LB Creative Pty Ltd 2018-10-07   \n",
       "3                               Anaconda Group Pty Ltd 2018-10-07   \n",
       "4       Commonwealth Bank - Business & Private Banking 2018-10-07   \n",
       "...                                                ...        ...   \n",
       "197224                   Evolve Scientific Recruitment 2018-11-29   \n",
       "197225                Constructive Recruitment Pty Ltd 2018-11-29   \n",
       "197226                  Healthcare Professionals Group 2018-11-29   \n",
       "197227                  Healthcare Professionals Group 2018-11-29   \n",
       "197228            HEADWAY INFORMATION SERVICES PTY LTD 2018-11-29   \n",
       "\n",
       "                                Location                         Area  \\\n",
       "0                                 Sydney  North West & Hills District   \n",
       "1                  Richmond & Hawkesbury                          NaN   \n",
       "2                               Brisbane          CBD & Inner Suburbs   \n",
       "3                Gosford & Central Coast                          NaN   \n",
       "4                                 Sydney        Ryde & Macquarie Park   \n",
       "...                                  ...                          ...   \n",
       "197224                         Melbourne                          NaN   \n",
       "197225                         Melbourne          CBD & Inner Suburbs   \n",
       "197226      Newcastle, Maitland & Hunter                          NaN   \n",
       "197227  Port Macquarie & Mid North Coast                          NaN   \n",
       "197228                          Brisbane     Southern Suburbs & Logan   \n",
       "\n",
       "                                Classification  \\\n",
       "0                   Retail & Consumer Products   \n",
       "1                   Retail & Consumer Products   \n",
       "2                   Retail & Consumer Products   \n",
       "3                   Retail & Consumer Products   \n",
       "4               Call Centre & Customer Service   \n",
       "...                                        ...   \n",
       "197224                    Science & Technology   \n",
       "197225                            Construction   \n",
       "197226                    Healthcare & Medical   \n",
       "197227                    Healthcare & Medical   \n",
       "197228  Information & Communication Technology   \n",
       "\n",
       "                        SubClassification  \\\n",
       "0                       Retail Assistants   \n",
       "1                       Retail Assistants   \n",
       "2                       Retail Assistants   \n",
       "3                       Retail Assistants   \n",
       "4                         Sales - Inbound   \n",
       "...                                   ...   \n",
       "197224           Food Technology & Safety   \n",
       "197225                 Project Management   \n",
       "197226                Medical Specialists   \n",
       "197227                Medical Specialists   \n",
       "197228  Networks & Systems Administration   \n",
       "\n",
       "                                              Requirement    JobType  \\\n",
       "0       Our Casual Stock Replenishers pride themselves...        NaN   \n",
       "1       Our Casual Stock Replenishers pride themselves...        NaN   \n",
       "2       BRAND NEW FLAGSHIP STORE OPENING - SUNSHINE PLAZA        NaN   \n",
       "3       Bring it on - do you love the great outdoors a...        NaN   \n",
       "4       We are seeking highly articulate, enthusiastic...        NaN   \n",
       "...                                                   ...        ...   \n",
       "197224  Environmental Officer- Contaminated Land | 3-4...  Full Time   \n",
       "197225  Career defining role with buoyant commercial/a...  Full Time   \n",
       "197226  Responsible for providing surgical procedures ...  Full Time   \n",
       "197227  Provide your expertise as an Orthopaedic Surge...  Full Time   \n",
       "197228  VMware Engineer needed for a VmWare Migration ...        NaN   \n",
       "\n",
       "        LowestSalary  HighestSalary  AvgSalary  \n",
       "0          -1.107144      -0.901771  -0.991866  \n",
       "1          -1.107144      -0.901771  -0.991866  \n",
       "2          -1.107144      -0.901771  -0.991866  \n",
       "3          -1.107144      -0.901771  -0.991866  \n",
       "4          -1.107144      -0.901771  -0.991866  \n",
       "...              ...            ...        ...  \n",
       "197224      2.689609       3.157124   2.969231  \n",
       "197225      2.689609       3.157124   2.969231  \n",
       "197226      2.689609       3.157124   2.969231  \n",
       "197227      2.689609       3.157124   2.969231  \n",
       "197228      2.689609       3.157124   2.969231  \n",
       "\n",
       "[196039 rows x 12 columns]"
      ]
     },
     "execution_count": 234,
     "metadata": {},
     "output_type": "execute_result"
    }
   ],
   "source": [
    "# See our new normalized data\n",
    "df_norm"
   ]
  },
  {
   "cell_type": "markdown",
   "metadata": {},
   "source": [
    "### Dataset overview\n",
    "< Will copy paste from documentation >\n",
    "\n",
    "### Data preperation and preprosessing\n",
    "< Will copy paste from documentation >\n",
    "\n",
    "### Hypothesis\n",
    "< Will copy paste from documentation >\n",
    "\n"
   ]
  },
  {
   "cell_type": "markdown",
   "metadata": {},
   "source": [
    "## Part 2 - Data Analysis and Interpretation"
   ]
  },
  {
   "cell_type": "markdown",
   "metadata": {},
   "source": [
    "### Job metadata\n",
    "Extract the relevant information to describe the job’s\n",
    "attributes.\n",
    "For example:\n",
    "- What is the sector, sub-sector of each job?\n",
    "- Where is the location of the job?\n",
    "- Which is the range of salaries for each job?\n",
    "\n",
    "First impressions about the dataset.\n",
    "How many records are there?\n",
    "How many locations?\n",
    "What are the ranges of salaries?"
   ]
  },
  {
   "cell_type": "code",
   "execution_count": 235,
   "metadata": {},
   "outputs": [
    {
     "data": {
      "text/html": [
       "<div>\n",
       "<style scoped>\n",
       "    .dataframe tbody tr th:only-of-type {\n",
       "        vertical-align: middle;\n",
       "    }\n",
       "\n",
       "    .dataframe tbody tr th {\n",
       "        vertical-align: top;\n",
       "    }\n",
       "\n",
       "    .dataframe thead th {\n",
       "        text-align: right;\n",
       "    }\n",
       "</style>\n",
       "<table border=\"1\" class=\"dataframe\">\n",
       "  <thead>\n",
       "    <tr style=\"text-align: right;\">\n",
       "      <th></th>\n",
       "      <th>Title</th>\n",
       "      <th>Company</th>\n",
       "      <th>Date</th>\n",
       "      <th>Location</th>\n",
       "      <th>Area</th>\n",
       "      <th>Classification</th>\n",
       "      <th>SubClassification</th>\n",
       "      <th>Requirement</th>\n",
       "      <th>JobType</th>\n",
       "      <th>LowestSalary</th>\n",
       "      <th>HighestSalary</th>\n",
       "      <th>AvgSalary</th>\n",
       "    </tr>\n",
       "  </thead>\n",
       "  <tbody>\n",
       "  </tbody>\n",
       "</table>\n",
       "</div>"
      ],
      "text/plain": [
       "Empty DataFrame\n",
       "Columns: [Title, Company, Date, Location, Area, Classification, SubClassification, Requirement, JobType, LowestSalary, HighestSalary, AvgSalary]\n",
       "Index: []"
      ]
     },
     "execution_count": 235,
     "metadata": {},
     "output_type": "execute_result"
    }
   ],
   "source": [
    "df.head(0)"
   ]
  },
  {
   "cell_type": "code",
   "execution_count": null,
   "metadata": {},
   "outputs": [],
   "source": []
  },
  {
   "cell_type": "code",
   "execution_count": 253,
   "metadata": {},
   "outputs": [
    {
     "name": "stdout",
     "output_type": "stream",
     "text": [
      "Total records: 196039\n",
      "\n",
      "Location\n",
      "No. of Locations: 65\n",
      "\n",
      "Sector\n",
      "No. of sectors: 30\n",
      "\n",
      "['Retail & Consumer Products' 'Call Centre & Customer Service'\n",
      " 'Hospitality & Tourism' 'Banking & Financial Services'\n",
      " 'Manufacturing, Transport & Logistics' 'Sales'\n",
      " 'Administration & Office Support' 'Trades & Services' 'Accounting'\n",
      " 'Real Estate & Property' 'Healthcare & Medical'\n",
      " 'Marketing & Communications' 'Government & Defence'\n",
      " 'Information & Communication Technology' 'Education & Training'\n",
      " 'Community Services & Development' 'Mining, Resources & Energy'\n",
      " 'Human Resources & Recruitment' 'Insurance & Superannuation'\n",
      " 'Engineering' 'CEO & General Management' 'Design & Architecture' 'Legal'\n",
      " 'Construction' 'Sport & Recreation' 'Science & Technology'\n",
      " 'Advertising, Arts & Media' 'Farming, Animals & Conservation'\n",
      " 'Self Employment' 'Consulting & Strategy']\n"
     ]
    }
   ],
   "source": [
    "# Number of records\n",
    "print(\"Total records: %s\\n\" % df.shape[0])\n",
    "\n",
    "\n",
    "# LOCATION\n",
    "# Creating new DataFrame with removed NaN location values.\n",
    "print(\"Location\")\n",
    "print(\"No. of Locations: %s\\n\" % len(df_loc.Location.unique()))\n",
    "\n",
    "\n",
    "# SECTOR\n",
    "print(\"Sector\")\n",
    "print(\"No. of sectors: %s\\n\" % len(df_sec.Classification.unique()))\n",
    "print(df_sec.Classification.unique())\n",
    "\n",
    "\n",
    "\n",
    "\n",
    "\n",
    "# print(df_loc.Location.unique())\n",
    "\n",
    "\n",
    "# Number of Sectors\n",
    "# print(\"No. of Sectors:\", len(df['Classification'].value_counts()))\n",
    "\n",
    "# Number of SubSectors for each sector"
   ]
  },
  {
   "cell_type": "code",
   "execution_count": null,
   "metadata": {},
   "outputs": [],
   "source": []
  },
  {
   "cell_type": "code",
   "execution_count": 237,
   "metadata": {},
   "outputs": [
    {
     "data": {
      "text/plain": [
       "Information & Communication Technology    22683\n",
       "Trades & Services                         17910\n",
       "Healthcare & Medical                      16991\n",
       "Hospitality & Tourism                     15483\n",
       "Manufacturing, Transport & Logistics      12324\n",
       "Administration & Office Support            9987\n",
       "Accounting                                 9340\n",
       "Education & Training                       9131\n",
       "Construction                               8339\n",
       "Sales                                      8076\n",
       "Retail & Consumer Products                 8006\n",
       "Government & Defence                       7191\n",
       "Engineering                                6426\n",
       "Mining, Resources & Energy                 6258\n",
       "Banking & Financial Services               4616\n",
       "Community Services & Development           4452\n",
       "Legal                                      4221\n",
       "Human Resources & Recruitment              4112\n",
       "Marketing & Communications                 3959\n",
       "Call Centre & Customer Service             3947\n",
       "Real Estate & Property                     3598\n",
       "Design & Architecture                      1806\n",
       "Insurance & Superannuation                 1461\n",
       "Consulting & Strategy                      1197\n",
       "Sport & Recreation                          980\n",
       "Science & Technology                        905\n",
       "Farming, Animals & Conservation             881\n",
       "CEO & General Management                    837\n",
       "Advertising, Arts & Media                   829\n",
       "Self Employment                              93\n",
       "Name: Classification, dtype: int64"
      ]
     },
     "execution_count": 237,
     "metadata": {},
     "output_type": "execute_result"
    }
   ],
   "source": [
    "# How is the data spread out across all job types?\n",
    "df['Classification'].value_counts()"
   ]
  },
  {
   "cell_type": "code",
   "execution_count": 238,
   "metadata": {},
   "outputs": [
    {
     "data": {
      "text/plain": [
       "Developers/Programmers                   4189\n",
       "Business/Systems Analysts                2958\n",
       "Programme & Project Management           2400\n",
       "Architects                               1540\n",
       "Engineering - Software                   1429\n",
       "Help Desk & IT Support                   1371\n",
       "Networks & Systems Administration        1190\n",
       "Consultants                              1145\n",
       "Other                                     996\n",
       "Testing & Quality Assurance               827\n",
       "Security                                  772\n",
       "Management                                745\n",
       "Engineering - Network                     550\n",
       "Database Development & Administration     548\n",
       "Web Development & Production              452\n",
       "Sales - Pre & Post                        444\n",
       "Product Management & Development          376\n",
       "Telecommunications                        353\n",
       "Team Leaders                              173\n",
       "Engineering - Hardware                    116\n",
       "Technical Writing                          96\n",
       "Computer Operators                         13\n",
       "Name: SubClassification, dtype: int64"
      ]
     },
     "execution_count": 238,
     "metadata": {},
     "output_type": "execute_result"
    }
   ],
   "source": [
    "# IT jobs\n",
    "df_IT = df['SubClassification'].loc[df['Classification'] == 'Information & Communication Technology']\n",
    "\n",
    "# What is the spread of IT job listings?\n",
    "df_IT.value_counts()"
   ]
  },
  {
   "cell_type": "code",
   "execution_count": 239,
   "metadata": {},
   "outputs": [
    {
     "data": {
      "image/png": "[encoded data removed]",
      "text/plain": [
       "<Figure size 1080x720 with 1 Axes>"
      ]
     },
     "metadata": {
      "needs_background": "light"
     },
     "output_type": "display_data"
    }
   ],
   "source": [
    "# Histogram that shows the frequency of IT jobs\n",
    "f, ax = plt.subplots(figsize=(15, 10))\n",
    "df_IT.value_counts().head(25).plot(ax=ax, kind='bar')\n",
    "f.autofmt_xdate()\n",
    "plt.title(\"Job Frequency for IT Jobs\", fontsize=30)\n",
    "plt.ylabel(\"No. of Available Jobs\", fontsize=15)\n",
    "plt.xlabel(\"IT Jobs\", fontsize=15)\n",
    "plt.show()"
   ]
  },
  {
   "cell_type": "code",
   "execution_count": 240,
   "metadata": {},
   "outputs": [],
   "source": [
    "# Where are these IT jobs located?"
   ]
  },
  {
   "cell_type": "code",
   "execution_count": 241,
   "metadata": {},
   "outputs": [],
   "source": [
    "# What is the range of salaries for these IT jobs?"
   ]
  },
  {
   "cell_type": "markdown",
   "metadata": {},
   "source": [
    "#### Interesting points about metadata so far:\n",
    "- IT jobs are the most frequently listed.\n",
    "- Among IT jobs, Developers/Programmers are the most popular"
   ]
  },
  {
   "cell_type": "markdown",
   "metadata": {},
   "source": [
    "### Market by location\n",
    "For example:\n",
    "- What is the market size in each city? Which are the hottest job sectors in\n",
    "each city?\n",
    "- Which range of salary is common in each city? Where are the employees\n",
    "more well-paid?\n",
    "- Can you detect the pattern of posting: e.g. are more jobs posted at the\n",
    "beginning of month?"
   ]
  },
  {
   "cell_type": "code",
   "execution_count": 242,
   "metadata": {},
   "outputs": [
    {
     "data": {
      "text/plain": [
       "Sydney                                  60374\n",
       "Melbourne                               46428\n",
       "Brisbane                                21335\n",
       "Perth                                   13138\n",
       "Adelaide                                 6606\n",
       "                                        ...  \n",
       "Yorke Peninsula & Clare Valley             94\n",
       "Tumut, Snowy & Monaro                      86\n",
       "Somerset & Lockyer                         65\n",
       "Fleurieu Peninsula & Kangaroo Island       64\n",
       "Central & South East TAS                   57\n",
       "Name: Location, Length: 65, dtype: int64"
      ]
     },
     "execution_count": 242,
     "metadata": {},
     "output_type": "execute_result"
    }
   ],
   "source": [
    "# How is the data spread out across locations?\n",
    "df['Location'].value_counts()"
   ]
  },
  {
   "cell_type": "code",
   "execution_count": 243,
   "metadata": {},
   "outputs": [
    {
     "data": {
      "image/png": "[encoded data removed]",
      "text/plain": [
       "<Figure size 1080x720 with 1 Axes>"
      ]
     },
     "metadata": {
      "needs_background": "light"
     },
     "output_type": "display_data"
    }
   ],
   "source": [
    "# Histogram that shows the frequency of jobs in locations\n",
    "f, ax = plt.subplots(figsize=(15, 10))\n",
    "df['Location'].value_counts().head(25).plot(ax=ax, kind='bar')\n",
    "f.autofmt_xdate()\n",
    "plt.title(\"Job Frequency for Locations (Top 25)\", fontsize=30)\n",
    "plt.ylabel(\"No. of Available Jobs\", fontsize=15)\n",
    "plt.xlabel(\"Locations\", fontsize=15)\n",
    "plt.show()"
   ]
  },
  {
   "cell_type": "code",
   "execution_count": 244,
   "metadata": {},
   "outputs": [
    {
     "data": {
      "text/plain": [
       "Text(0.5, 0, 'Locations')"
      ]
     },
     "execution_count": 244,
     "metadata": {},
     "output_type": "execute_result"
    },
    {
     "data": {
      "image/png": "[encoded data removed]",
      "text/plain": [
       "<Figure size 1080x720 with 1 Axes>"
      ]
     },
     "metadata": {
      "needs_background": "light"
     },
     "output_type": "display_data"
    }
   ],
   "source": [
    "# - A histogram that shows mean(AverageSalary) for each location\n",
    "\n",
    "top25loc = df['Location'].value_counts().head(25).index.tolist()\n",
    "top25avgsal = []\n",
    "top25highsal = []\n",
    "top25lowsal = []\n",
    "\n",
    "for x in top25loc:\n",
    "    temp = (df[df['Location'] == x])\n",
    "    top25avgsal.append(temp['AvgSalary'].mean())\n",
    "    top25highsal.append(temp['HighestSalary'].mean())\n",
    "    top25lowsal.append(temp['LowestSalary'].mean())\n",
    "    \n",
    "data = {'Location': top25loc, 'HighestSalary': top25highsal,\n",
    "        'LowestSalary': top25lowsal, 'AvgSalary': top25avgsal} \n",
    "df_sal = pd.DataFrame (data, columns = ['Location', 'HighestSalary', 'LowestSalary', 'AvgSalary'])\n",
    "\n",
    "df_sal.plot(kind='bar', figsize = (15,10))\n",
    "plt.title(\"Average Salaries (Top 25)\", fontsize=30)\n",
    "plt.xticks(np.arange(25), top25loc)\n",
    "plt.ylabel(\"Average Salaries ($)\", fontsize=15)\n",
    "plt.xlabel(\"Locations\", fontsize=15)"
   ]
  },
  {
   "cell_type": "code",
   "execution_count": 245,
   "metadata": {},
   "outputs": [
    {
     "data": {
      "text/html": [
       "<div>\n",
       "<style scoped>\n",
       "    .dataframe tbody tr th:only-of-type {\n",
       "        vertical-align: middle;\n",
       "    }\n",
       "\n",
       "    .dataframe tbody tr th {\n",
       "        vertical-align: top;\n",
       "    }\n",
       "\n",
       "    .dataframe thead th {\n",
       "        text-align: right;\n",
       "    }\n",
       "</style>\n",
       "<table border=\"1\" class=\"dataframe\">\n",
       "  <thead>\n",
       "    <tr style=\"text-align: right;\">\n",
       "      <th></th>\n",
       "      <th>day</th>\n",
       "      <th>month</th>\n",
       "      <th>year</th>\n",
       "    </tr>\n",
       "  </thead>\n",
       "  <tbody>\n",
       "    <tr>\n",
       "      <th>0</th>\n",
       "      <td>7</td>\n",
       "      <td>10</td>\n",
       "      <td>2018</td>\n",
       "    </tr>\n",
       "    <tr>\n",
       "      <th>1</th>\n",
       "      <td>7</td>\n",
       "      <td>10</td>\n",
       "      <td>2018</td>\n",
       "    </tr>\n",
       "    <tr>\n",
       "      <th>2</th>\n",
       "      <td>7</td>\n",
       "      <td>10</td>\n",
       "      <td>2018</td>\n",
       "    </tr>\n",
       "    <tr>\n",
       "      <th>3</th>\n",
       "      <td>7</td>\n",
       "      <td>10</td>\n",
       "      <td>2018</td>\n",
       "    </tr>\n",
       "    <tr>\n",
       "      <th>4</th>\n",
       "      <td>7</td>\n",
       "      <td>10</td>\n",
       "      <td>2018</td>\n",
       "    </tr>\n",
       "  </tbody>\n",
       "</table>\n",
       "</div>"
      ],
      "text/plain": [
       "   day  month  year\n",
       "0    7     10  2018\n",
       "1    7     10  2018\n",
       "2    7     10  2018\n",
       "3    7     10  2018\n",
       "4    7     10  2018"
      ]
     },
     "execution_count": 245,
     "metadata": {},
     "output_type": "execute_result"
    }
   ],
   "source": [
    "# Create dataframe for date/posting trends\n",
    "dates_df = df.filter(['Date'], axis=1)\n",
    "dates_df['Date'] = dates_df['Date'].astype('datetime64[ns]')\n",
    "dates_df['day'] = df['Date'].dt.day\n",
    "dates_df['month'] = df['Date'].dt.month\n",
    "dates_df['year'] = df['Date'].dt.year\n",
    "dates_df = dates_df.drop('Date', axis=1)\n",
    "dates_df.head()"
   ]
  },
  {
   "cell_type": "code",
   "execution_count": 246,
   "metadata": {},
   "outputs": [
    {
     "data": {
      "image/png": "[encoded data removed]",
      "text/plain": [
       "<Figure size 1080x720 with 1 Axes>"
      ]
     },
     "metadata": {
      "needs_background": "light"
     },
     "output_type": "display_data"
    }
   ],
   "source": [
    "# Histogram that shows the frequency of jobs in locations\n",
    "\n",
    "f, ax = plt.subplots(figsize=(15, 10))\n",
    "# dates_df['day'].value_counts().plot(ax=ax, kind='bar')\n",
    "dates_df.groupby(\"day\")['day'].value_counts().plot(kind='bar')\n",
    "f.autofmt_xdate()\n",
    "plt.title(\"Posting Frequency Days in Month\", fontsize=30)\n",
    "plt.ylabel(\"Number of Job Postings\", fontsize=15)\n",
    "plt.xticks(np.arange(31), [x for x in range(1,32)])\n",
    "plt.xlabel(\"Day of Month\", fontsize=15)\n",
    "plt.show()\n"
   ]
  },
  {
   "cell_type": "code",
   "execution_count": 247,
   "metadata": {},
   "outputs": [
    {
     "data": {
      "image/png": "[encoded data removed]",
      "text/plain": [
       "<Figure size 1080x360 with 2 Axes>"
      ]
     },
     "metadata": {
      "needs_background": "light"
     },
     "output_type": "display_data"
    }
   ],
   "source": [
    "# def group_by_third(d):\n",
    "#     if d['day'] <= 10:\n",
    "#         return 'first'\n",
    "#     elif d['day'] <= 20:\n",
    "#         return 'second'\n",
    "#     else:\n",
    "#         return 'third'\n",
    "\n",
    "# dates_df['third'] = dates_df.apply(group_by_third, axis=1)\n",
    "\n",
    "fig, axs = plt.subplots(1, 2, figsize=(15, 5), sharey=True, tight_layout=True)\n",
    "axs[0].hist(dates_df['day'], bins=4)\n",
    "axs[0].set_title('4 Bin - Frequency', fontsize=20)\n",
    "axs[0].set_xlabel('Days within Month')\n",
    "axs[0].set_ylabel('Number of Job Postings')\n",
    "axs[1].hist(dates_df['day'], bins=6)\n",
    "axs[1].set_title('6 Bin - Frequency', fontsize=20)\n",
    "axs[1].set_xlabel('Days within Month')\n",
    "axs[1].set_ylabel('Number of Job Postings')\n",
    "plt.show()\n"
   ]
  },
  {
   "cell_type": "code",
   "execution_count": 248,
   "metadata": {},
   "outputs": [
    {
     "data": {
      "image/png": "[encoded data removed]",
      "text/plain": [
       "<Figure size 1080x720 with 1 Axes>"
      ]
     },
     "metadata": {
      "needs_background": "light"
     },
     "output_type": "display_data"
    }
   ],
   "source": [
    "# Histogram that shows the frequency of jobs in locations\n",
    "f, ax = plt.subplots(figsize=(15, 10))\n",
    "# dates_df['month'].value_counts().plot(ax=ax, kind='bar')\n",
    "dates_df.groupby(\"month\")['month'].value_counts().plot(kind='bar')\n",
    "f.autofmt_xdate()\n",
    "plt.title(\"Posting Frequency Per Month\", fontsize=30)\n",
    "plt.ylabel(\"Number of Job Postings\", fontsize=15)\n",
    "plt.xticks(np.arange(6), ['Oct 18', 'Nov 18', 'Dec 18', 'Jan 19', 'Feb 19', 'Mar 19'])\n",
    "plt.xlabel(\"Month\", fontsize=15)\n",
    "plt.show()"
   ]
  },
  {
   "cell_type": "code",
   "execution_count": 249,
   "metadata": {},
   "outputs": [],
   "source": [
    "# Heat map\n",
    "\n",
    "# Correlation\n",
    "# pd.plotting.scatter_matrix(df_norm, alpha=0.2, figsize=(10,10))\n",
    "# plt.show()\n",
    "\n",
    "# yeah not sure about that one..."
   ]
  },
  {
   "cell_type": "code",
   "execution_count": 250,
   "metadata": {},
   "outputs": [],
   "source": [
    "# Regression test"
   ]
  },
  {
   "cell_type": "markdown",
   "metadata": {},
   "source": [
    "### Market by sectors\n",
    "For example:\n",
    "- Which sectors keep the highest market share?\n",
    "- In each sector, which sub-sectors are the main spotlights?\n",
    "- What is the salary range for each sector/sub-sector? Can you compare salary\n",
    "range between sectors/subsectors?\n",
    "- What is the trending of market i.e. if a high school student ask you which\n",
    "subject should he/she learn in the university (to guarantee a job in a future),\n",
    "what is your advice?\n",
    "- Can you detect which skills are required in each sector?"
   ]
  },
  {
   "cell_type": "code",
   "execution_count": null,
   "metadata": {},
   "outputs": [],
   "source": []
  },
  {
   "cell_type": "markdown",
   "metadata": {},
   "source": [
    "## Part 3 - Evaluation"
   ]
  },
  {
   "cell_type": "code",
   "execution_count": null,
   "metadata": {},
   "outputs": [],
   "source": []
  }
 ],
 "metadata": {
  "kernelspec": {
   "display_name": "Python 3",
   "language": "python",
   "name": "python3"
  },
  "language_info": {
   "codemirror_mode": {
    "name": "ipython",
    "version": 3
   },
   "file_extension": ".py",
   "mimetype": "text/x-python",
   "name": "python",
   "nbconvert_exporter": "python",
   "pygments_lexer": "ipython3",
   "version": "3.7.6"
  }
 },
 "nbformat": 4,
 "nbformat_minor": 4
}
