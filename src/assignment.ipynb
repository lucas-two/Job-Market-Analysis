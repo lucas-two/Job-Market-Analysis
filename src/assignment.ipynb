{
 "cells": [
  {
   "cell_type": "markdown",
   "metadata": {},
   "source": [
    "# Assignment 1: Job Market Analysis"
   ]
  },
  {
   "cell_type": "markdown",
   "metadata": {},
   "source": [
    "## Part 1 - Data Preperation and Preprocesing"
   ]
  },
  {
   "cell_type": "code",
   "execution_count": 77,
   "metadata": {},
   "outputs": [],
   "source": [
    "# Import libraries\n",
    "import pandas as pd\n",
    "import numpy as np\n",
    "from sklearn.preprocessing import StandardScaler\n",
    "import matplotlib.pyplot as plt\n",
    "import seaborn as sns\n",
    "%matplotlib inline"
   ]
  },
  {
   "cell_type": "code",
   "execution_count": 78,
   "metadata": {},
   "outputs": [],
   "source": [
    "# Importing data\n",
    "df = pd.read_csv(\"data.csv\", low_memory=False)"
   ]
  },
  {
   "cell_type": "code",
   "execution_count": 79,
   "metadata": {},
   "outputs": [
    {
     "data": {
      "text/html": [
       "<div>\n",
       "<style scoped>\n",
       "    .dataframe tbody tr th:only-of-type {\n",
       "        vertical-align: middle;\n",
       "    }\n",
       "\n",
       "    .dataframe tbody tr th {\n",
       "        vertical-align: top;\n",
       "    }\n",
       "\n",
       "    .dataframe thead th {\n",
       "        text-align: right;\n",
       "    }\n",
       "</style>\n",
       "<table border=\"1\" class=\"dataframe\">\n",
       "  <thead>\n",
       "    <tr style=\"text-align: right;\">\n",
       "      <th></th>\n",
       "      <th>Id</th>\n",
       "      <th>Title</th>\n",
       "      <th>Company</th>\n",
       "      <th>Date</th>\n",
       "      <th>Location</th>\n",
       "      <th>Area</th>\n",
       "      <th>Classification</th>\n",
       "      <th>SubClassification</th>\n",
       "      <th>Requirement</th>\n",
       "      <th>FullDescription</th>\n",
       "      <th>LowestSalary</th>\n",
       "      <th>HighestSalary</th>\n",
       "      <th>JobType</th>\n",
       "    </tr>\n",
       "  </thead>\n",
       "  <tbody>\n",
       "    <tr>\n",
       "      <th>0</th>\n",
       "      <td>37404348</td>\n",
       "      <td>Casual Stock Replenisher</td>\n",
       "      <td>Aldi Stores</td>\n",
       "      <td>2018-10-07T00:00:00.000Z</td>\n",
       "      <td>Sydney</td>\n",
       "      <td>North West &amp; Hills District</td>\n",
       "      <td>Retail &amp; Consumer Products</td>\n",
       "      <td>Retail Assistants</td>\n",
       "      <td>Our Casual Stock Replenishers pride themselves...</td>\n",
       "      <td>NaN</td>\n",
       "      <td>0</td>\n",
       "      <td>30</td>\n",
       "      <td>NaN</td>\n",
       "    </tr>\n",
       "    <tr>\n",
       "      <th>1</th>\n",
       "      <td>37404337</td>\n",
       "      <td>Casual Stock Replenisher</td>\n",
       "      <td>Aldi Stores</td>\n",
       "      <td>2018-10-07T00:00:00.000Z</td>\n",
       "      <td>Richmond &amp; Hawkesbury</td>\n",
       "      <td>NaN</td>\n",
       "      <td>Retail &amp; Consumer Products</td>\n",
       "      <td>Retail Assistants</td>\n",
       "      <td>Our Casual Stock Replenishers pride themselves...</td>\n",
       "      <td>NaN</td>\n",
       "      <td>0</td>\n",
       "      <td>30</td>\n",
       "      <td>NaN</td>\n",
       "    </tr>\n",
       "    <tr>\n",
       "      <th>2</th>\n",
       "      <td>37404356</td>\n",
       "      <td>RETAIL SALES SUPERSTARS and STYLISTS Wanted - ...</td>\n",
       "      <td>LB Creative Pty Ltd</td>\n",
       "      <td>2018-10-07T00:00:00.000Z</td>\n",
       "      <td>Brisbane</td>\n",
       "      <td>CBD &amp; Inner Suburbs</td>\n",
       "      <td>Retail &amp; Consumer Products</td>\n",
       "      <td>Retail Assistants</td>\n",
       "      <td>BRAND NEW FLAGSHIP STORE OPENING - SUNSHINE PLAZA</td>\n",
       "      <td>NaN</td>\n",
       "      <td>0</td>\n",
       "      <td>30</td>\n",
       "      <td>NaN</td>\n",
       "    </tr>\n",
       "    <tr>\n",
       "      <th>3</th>\n",
       "      <td>37404330</td>\n",
       "      <td>Team member - Belrose</td>\n",
       "      <td>Anaconda Group Pty Ltd</td>\n",
       "      <td>2018-10-07T00:00:00.000Z</td>\n",
       "      <td>Gosford &amp; Central Coast</td>\n",
       "      <td>NaN</td>\n",
       "      <td>Retail &amp; Consumer Products</td>\n",
       "      <td>Retail Assistants</td>\n",
       "      <td>Bring it on - do you love the great outdoors a...</td>\n",
       "      <td>NaN</td>\n",
       "      <td>0</td>\n",
       "      <td>30</td>\n",
       "      <td>NaN</td>\n",
       "    </tr>\n",
       "    <tr>\n",
       "      <th>4</th>\n",
       "      <td>37404308</td>\n",
       "      <td>Business Banking Contact Centre Specialist, Ni...</td>\n",
       "      <td>Commonwealth Bank - Business &amp; Private Banking</td>\n",
       "      <td>2018-10-07T00:00:00.000Z</td>\n",
       "      <td>Sydney</td>\n",
       "      <td>Ryde &amp; Macquarie Park</td>\n",
       "      <td>Call Centre &amp; Customer Service</td>\n",
       "      <td>Sales - Inbound</td>\n",
       "      <td>We are seeking highly articulate, enthusiastic...</td>\n",
       "      <td>NaN</td>\n",
       "      <td>0</td>\n",
       "      <td>30</td>\n",
       "      <td>NaN</td>\n",
       "    </tr>\n",
       "  </tbody>\n",
       "</table>\n",
       "</div>"
      ],
      "text/plain": [
       "         Id                                              Title  \\\n",
       "0  37404348                           Casual Stock Replenisher   \n",
       "1  37404337                           Casual Stock Replenisher   \n",
       "2  37404356  RETAIL SALES SUPERSTARS and STYLISTS Wanted - ...   \n",
       "3  37404330                              Team member - Belrose   \n",
       "4  37404308  Business Banking Contact Centre Specialist, Ni...   \n",
       "\n",
       "                                          Company                      Date  \\\n",
       "0                                     Aldi Stores  2018-10-07T00:00:00.000Z   \n",
       "1                                     Aldi Stores  2018-10-07T00:00:00.000Z   \n",
       "2                             LB Creative Pty Ltd  2018-10-07T00:00:00.000Z   \n",
       "3                          Anaconda Group Pty Ltd  2018-10-07T00:00:00.000Z   \n",
       "4  Commonwealth Bank - Business & Private Banking  2018-10-07T00:00:00.000Z   \n",
       "\n",
       "                  Location                         Area  \\\n",
       "0                   Sydney  North West & Hills District   \n",
       "1    Richmond & Hawkesbury                          NaN   \n",
       "2                 Brisbane          CBD & Inner Suburbs   \n",
       "3  Gosford & Central Coast                          NaN   \n",
       "4                   Sydney        Ryde & Macquarie Park   \n",
       "\n",
       "                   Classification  SubClassification  \\\n",
       "0      Retail & Consumer Products  Retail Assistants   \n",
       "1      Retail & Consumer Products  Retail Assistants   \n",
       "2      Retail & Consumer Products  Retail Assistants   \n",
       "3      Retail & Consumer Products  Retail Assistants   \n",
       "4  Call Centre & Customer Service    Sales - Inbound   \n",
       "\n",
       "                                         Requirement FullDescription  \\\n",
       "0  Our Casual Stock Replenishers pride themselves...             NaN   \n",
       "1  Our Casual Stock Replenishers pride themselves...             NaN   \n",
       "2  BRAND NEW FLAGSHIP STORE OPENING - SUNSHINE PLAZA             NaN   \n",
       "3  Bring it on - do you love the great outdoors a...             NaN   \n",
       "4  We are seeking highly articulate, enthusiastic...             NaN   \n",
       "\n",
       "   LowestSalary  HighestSalary JobType  \n",
       "0             0             30     NaN  \n",
       "1             0             30     NaN  \n",
       "2             0             30     NaN  \n",
       "3             0             30     NaN  \n",
       "4             0             30     NaN  "
      ]
     },
     "execution_count": 79,
     "metadata": {},
     "output_type": "execute_result"
    }
   ],
   "source": [
    "# Display head of the data\n",
    "df.head()"
   ]
  },
  {
   "cell_type": "code",
   "execution_count": 80,
   "metadata": {},
   "outputs": [
    {
     "name": "stdout",
     "output_type": "stream",
     "text": [
      "DataFrame shape:\n",
      "\n",
      "(318477, 13)\n"
     ]
    }
   ],
   "source": [
    "# Display the shape of the dataset\n",
    "print(\"DataFrame shape:\\n\")\n",
    "print(df.shape)"
   ]
  },
  {
   "cell_type": "code",
   "execution_count": 81,
   "metadata": {
    "scrolled": true
   },
   "outputs": [
    {
     "name": "stdout",
     "output_type": "stream",
     "text": [
      "Column datatypes:\n",
      "\n",
      "Id                   object\n",
      "Title                object\n",
      "Company              object\n",
      "Date                 object\n",
      "Location             object\n",
      "Area                 object\n",
      "Classification       object\n",
      "SubClassification    object\n",
      "Requirement          object\n",
      "FullDescription      object\n",
      "LowestSalary          int64\n",
      "HighestSalary         int64\n",
      "JobType              object\n",
      "dtype: object\n"
     ]
    }
   ],
   "source": [
    "# Display the datatypes of each column\n",
    "print(\"Column datatypes:\\n\")\n",
    "print(df.dtypes)"
   ]
  },
  {
   "cell_type": "code",
   "execution_count": 82,
   "metadata": {},
   "outputs": [
    {
     "name": "stdout",
     "output_type": "stream",
     "text": [
      "NULL values:\n",
      "\n",
      "Id                        0\n",
      "Title                     0\n",
      "Company               12004\n",
      "Date                      0\n",
      "Location             121248\n",
      "Area                 195819\n",
      "Classification       121248\n",
      "SubClassification    121248\n",
      "Requirement               7\n",
      "FullDescription       16175\n",
      "LowestSalary              0\n",
      "HighestSalary             0\n",
      "JobType               16098\n",
      "dtype: int64\n"
     ]
    }
   ],
   "source": [
    "# Check for null values and display them\n",
    "print(\"NULL values:\\n\")\n",
    "print(df.isnull().sum())"
   ]
  },
  {
   "cell_type": "code",
   "execution_count": 83,
   "metadata": {},
   "outputs": [
    {
     "name": "stdout",
     "output_type": "stream",
     "text": [
      "Change date datatype:\n",
      "\n",
      "Original:\n",
      "2018-10-07T00:00:00.000Z \n",
      "\n",
      "New:\n",
      "2018-10-07 00:00:00\n"
     ]
    }
   ],
   "source": [
    "# Simplifying date datatype\n",
    "print(\"Change date datatype:\\n\")\n",
    "\n",
    "print(\"Original:\")\n",
    "print(df['Date'][0],\"\\n\")\n",
    "\n",
    "# Changing date datatype\n",
    "df['Date'] = df['Date'].astype('datetime64[ns]')\n",
    "\n",
    "print(\"New:\")\n",
    "print(df['Date'][0])"
   ]
  },
  {
   "cell_type": "code",
   "execution_count": 84,
   "metadata": {},
   "outputs": [
    {
     "data": {
      "text/plain": [
       "'\"\\n# Changing ID datatype\\n\\n# Some IDs have not been entered correctly, eg: \\'37915260&searchrequesttoken=e859cc74-e22f-498d-ac7c-77a7e1b45676\\'\\n# Need to trim the first 8 characters before converting to int\\n\\ndf[\\'Id\\'] = df[\\'Id\\'].str[:8].astype(\\'int64\\')\\n'"
      ]
     },
     "execution_count": 84,
     "metadata": {},
     "output_type": "execute_result"
    }
   ],
   "source": [
    "# Seems like removing the IDs reveals a bunch of duplicate data so I've just commented this out for now.\n",
    "\"\"\"\"\n",
    "# Changing ID datatype\n",
    "\n",
    "# Some IDs have not been entered correctly, eg: '37915260&searchrequesttoken=e859cc74-e22f-498d-ac7c-77a7e1b45676'\n",
    "# Need to trim the first 8 characters before converting to int\n",
    "\n",
    "df['Id'] = df['Id'].str[:8].astype('int64')\n",
    "\"\"\""
   ]
  },
  {
   "cell_type": "code",
   "execution_count": 85,
   "metadata": {},
   "outputs": [],
   "source": [
    "# Remove the Id and FullDescription column\n",
    "df = df.drop('Id', axis=1)\n",
    "df = df.drop('FullDescription', axis=1)"
   ]
  },
  {
   "cell_type": "code",
   "execution_count": 86,
   "metadata": {},
   "outputs": [
    {
     "name": "stdout",
     "output_type": "stream",
     "text": [
      "Removing Duplicates:\n",
      "\n",
      "No. of duplicates: 9991 (before)\n",
      "No. of duplicates: 0 (after)\n"
     ]
    }
   ],
   "source": [
    "# Removing duplicate data\n",
    "print(\"Removing Duplicates:\\n\")\n",
    "\n",
    "# Check for duplicates\n",
    "print(\"No. of duplicates:\", df[df.duplicated()].shape[0], \"(before)\")\n",
    "\n",
    "# Remove duplicates:\n",
    "df.drop_duplicates(inplace=True)\n",
    "\n",
    "# Re-check for duplicates\n",
    "print(\"No. of duplicates:\", df[df.duplicated()].shape[0], \"(after)\")"
   ]
  },
  {
   "cell_type": "code",
   "execution_count": 87,
   "metadata": {},
   "outputs": [
    {
     "name": "stdout",
     "output_type": "stream",
     "text": [
      "Total jobs: 308486 \n",
      "\n",
      "Lowest $0 jobs: 60840\n",
      "(19.72% of jobs)\n",
      "\n",
      "Highest $999k jobs: 11027\n",
      "(3.57% of jobs)\n",
      "\n",
      "Both Lowest $0 and Highest $999k jobs: 0\n",
      "(0.00% of jobs)\n"
     ]
    }
   ],
   "source": [
    "# How many jobs do we have in total?\n",
    "total_jobs = df.shape[0]\n",
    "\n",
    "# How many jobs have lowest salary equal to $0?\n",
    "lowest_size = df[(df['LowestSalary'] == 0)].shape[0]\n",
    "\n",
    "# How many jobs have highest salary equal to $999k?\n",
    "highest_size = df[(df['HighestSalary'] == 999)].shape[0]\n",
    "\n",
    "# How many jobs have both the highest and lowest salary ($0k - $999k)\n",
    "both_size = df[(df['HighestSalary'] == 999) & (df['LowestSalary'] == 0)].shape[0]\n",
    "\n",
    "print(\"Total jobs:\", total_jobs, \"\\n\")\n",
    "      \n",
    "print(\"Lowest $0 jobs: %d\" % lowest_size)\n",
    "print(\"(%.2f%% of jobs)\\n\" % (lowest_size / total_jobs * 100))\n",
    "      \n",
    "print(\"Highest $999k jobs: %d\" % highest_size)\n",
    "print(\"(%.2f%% of jobs)\\n\" % (highest_size / total_jobs * 100))\n",
    "\n",
    "print(\"Both Lowest $0 and Highest $999k jobs: %d\" % both_size)\n",
    "print(\"(%.2f%% of jobs)\" % (both_size / total_jobs * 100))"
   ]
  },
  {
   "cell_type": "code",
   "execution_count": 88,
   "metadata": {},
   "outputs": [],
   "source": [
    "# Creating column for average salary\n",
    "# The SEEK listing allows us to search listings from 30k -> 200k+\n",
    "# Thus we will increase 0k salaries to 15k and 999k salaries to 300k to keep it closer to these amounts.\n",
    "\n",
    "df.loc[df['LowestSalary'] == 0, 'LowestSalary'] = 15\n",
    "df.loc[df['HighestSalary'] == 999, 'HighestSalary'] = 300\n",
    "\n",
    "# Create row for average salary (Mean of Lowest and Highest salary)\n",
    "df['AvgSalary'] = (df['LowestSalary'] + df['HighestSalary']) / 2\n",
    "\n",
    "# Multiply our salaries by 1000 (1 = 1k so we want 1 = 1000)\n",
    "df['LowestSalary'] = df['LowestSalary'] * 1000\n",
    "df['HighestSalary'] = df['HighestSalary'] * 1000\n",
    "df['AvgSalary'] = df['AvgSalary'] * 1000\n",
    "\n",
    "# Convert our AvgSalary from float -> int\n",
    "df['AvgSalary'] = df['AvgSalary'].astype('Int64')"
   ]
  },
  {
   "cell_type": "code",
   "execution_count": 89,
   "metadata": {},
   "outputs": [
    {
     "data": {
      "text/html": [
       "<div>\n",
       "<style scoped>\n",
       "    .dataframe tbody tr th:only-of-type {\n",
       "        vertical-align: middle;\n",
       "    }\n",
       "\n",
       "    .dataframe tbody tr th {\n",
       "        vertical-align: top;\n",
       "    }\n",
       "\n",
       "    .dataframe thead th {\n",
       "        text-align: right;\n",
       "    }\n",
       "</style>\n",
       "<table border=\"1\" class=\"dataframe\">\n",
       "  <thead>\n",
       "    <tr style=\"text-align: right;\">\n",
       "      <th></th>\n",
       "      <th>Title</th>\n",
       "      <th>Company</th>\n",
       "      <th>Date</th>\n",
       "      <th>Location</th>\n",
       "      <th>Area</th>\n",
       "      <th>Classification</th>\n",
       "      <th>SubClassification</th>\n",
       "      <th>Requirement</th>\n",
       "      <th>LowestSalary</th>\n",
       "      <th>HighestSalary</th>\n",
       "      <th>JobType</th>\n",
       "      <th>AvgSalary</th>\n",
       "    </tr>\n",
       "  </thead>\n",
       "  <tbody>\n",
       "    <tr>\n",
       "      <th>0</th>\n",
       "      <td>Casual Stock Replenisher</td>\n",
       "      <td>Aldi Stores</td>\n",
       "      <td>2018-10-07</td>\n",
       "      <td>Sydney</td>\n",
       "      <td>North West &amp; Hills District</td>\n",
       "      <td>Retail &amp; Consumer Products</td>\n",
       "      <td>Retail Assistants</td>\n",
       "      <td>Our Casual Stock Replenishers pride themselves...</td>\n",
       "      <td>15000</td>\n",
       "      <td>30000</td>\n",
       "      <td>NaN</td>\n",
       "      <td>22500</td>\n",
       "    </tr>\n",
       "    <tr>\n",
       "      <th>1</th>\n",
       "      <td>Casual Stock Replenisher</td>\n",
       "      <td>Aldi Stores</td>\n",
       "      <td>2018-10-07</td>\n",
       "      <td>Richmond &amp; Hawkesbury</td>\n",
       "      <td>NaN</td>\n",
       "      <td>Retail &amp; Consumer Products</td>\n",
       "      <td>Retail Assistants</td>\n",
       "      <td>Our Casual Stock Replenishers pride themselves...</td>\n",
       "      <td>15000</td>\n",
       "      <td>30000</td>\n",
       "      <td>NaN</td>\n",
       "      <td>22500</td>\n",
       "    </tr>\n",
       "    <tr>\n",
       "      <th>2</th>\n",
       "      <td>RETAIL SALES SUPERSTARS and STYLISTS Wanted - ...</td>\n",
       "      <td>LB Creative Pty Ltd</td>\n",
       "      <td>2018-10-07</td>\n",
       "      <td>Brisbane</td>\n",
       "      <td>CBD &amp; Inner Suburbs</td>\n",
       "      <td>Retail &amp; Consumer Products</td>\n",
       "      <td>Retail Assistants</td>\n",
       "      <td>BRAND NEW FLAGSHIP STORE OPENING - SUNSHINE PLAZA</td>\n",
       "      <td>15000</td>\n",
       "      <td>30000</td>\n",
       "      <td>NaN</td>\n",
       "      <td>22500</td>\n",
       "    </tr>\n",
       "    <tr>\n",
       "      <th>3</th>\n",
       "      <td>Team member - Belrose</td>\n",
       "      <td>Anaconda Group Pty Ltd</td>\n",
       "      <td>2018-10-07</td>\n",
       "      <td>Gosford &amp; Central Coast</td>\n",
       "      <td>NaN</td>\n",
       "      <td>Retail &amp; Consumer Products</td>\n",
       "      <td>Retail Assistants</td>\n",
       "      <td>Bring it on - do you love the great outdoors a...</td>\n",
       "      <td>15000</td>\n",
       "      <td>30000</td>\n",
       "      <td>NaN</td>\n",
       "      <td>22500</td>\n",
       "    </tr>\n",
       "    <tr>\n",
       "      <th>4</th>\n",
       "      <td>Business Banking Contact Centre Specialist, Ni...</td>\n",
       "      <td>Commonwealth Bank - Business &amp; Private Banking</td>\n",
       "      <td>2018-10-07</td>\n",
       "      <td>Sydney</td>\n",
       "      <td>Ryde &amp; Macquarie Park</td>\n",
       "      <td>Call Centre &amp; Customer Service</td>\n",
       "      <td>Sales - Inbound</td>\n",
       "      <td>We are seeking highly articulate, enthusiastic...</td>\n",
       "      <td>15000</td>\n",
       "      <td>30000</td>\n",
       "      <td>NaN</td>\n",
       "      <td>22500</td>\n",
       "    </tr>\n",
       "    <tr>\n",
       "      <th>5</th>\n",
       "      <td>Business Banking Contact Centre Specialist, Ni...</td>\n",
       "      <td>Commonwealth Bank - Business &amp; Private Banking</td>\n",
       "      <td>2018-10-07</td>\n",
       "      <td>Sydney</td>\n",
       "      <td>Ryde &amp; Macquarie Park</td>\n",
       "      <td>Call Centre &amp; Customer Service</td>\n",
       "      <td>Customer Service - Call Centre</td>\n",
       "      <td>We are seeking highly articulate, enthusiastic...</td>\n",
       "      <td>15000</td>\n",
       "      <td>30000</td>\n",
       "      <td>NaN</td>\n",
       "      <td>22500</td>\n",
       "    </tr>\n",
       "    <tr>\n",
       "      <th>6</th>\n",
       "      <td>Casual Café All-rounder in Semaphore</td>\n",
       "      <td>Jora Local</td>\n",
       "      <td>2018-10-07</td>\n",
       "      <td>Adelaide</td>\n",
       "      <td>NaN</td>\n",
       "      <td>Hospitality &amp; Tourism</td>\n",
       "      <td>Waiting Staff</td>\n",
       "      <td>A cafe/restaurant in Semaphore is seeking a ca...</td>\n",
       "      <td>15000</td>\n",
       "      <td>30000</td>\n",
       "      <td>NaN</td>\n",
       "      <td>22500</td>\n",
       "    </tr>\n",
       "  </tbody>\n",
       "</table>\n",
       "</div>"
      ],
      "text/plain": [
       "                                               Title  \\\n",
       "0                           Casual Stock Replenisher   \n",
       "1                           Casual Stock Replenisher   \n",
       "2  RETAIL SALES SUPERSTARS and STYLISTS Wanted - ...   \n",
       "3                              Team member - Belrose   \n",
       "4  Business Banking Contact Centre Specialist, Ni...   \n",
       "5  Business Banking Contact Centre Specialist, Ni...   \n",
       "6               Casual Café All-rounder in Semaphore   \n",
       "\n",
       "                                          Company       Date  \\\n",
       "0                                     Aldi Stores 2018-10-07   \n",
       "1                                     Aldi Stores 2018-10-07   \n",
       "2                             LB Creative Pty Ltd 2018-10-07   \n",
       "3                          Anaconda Group Pty Ltd 2018-10-07   \n",
       "4  Commonwealth Bank - Business & Private Banking 2018-10-07   \n",
       "5  Commonwealth Bank - Business & Private Banking 2018-10-07   \n",
       "6                                      Jora Local 2018-10-07   \n",
       "\n",
       "                  Location                         Area  \\\n",
       "0                   Sydney  North West & Hills District   \n",
       "1    Richmond & Hawkesbury                          NaN   \n",
       "2                 Brisbane          CBD & Inner Suburbs   \n",
       "3  Gosford & Central Coast                          NaN   \n",
       "4                   Sydney        Ryde & Macquarie Park   \n",
       "5                   Sydney        Ryde & Macquarie Park   \n",
       "6                 Adelaide                          NaN   \n",
       "\n",
       "                   Classification               SubClassification  \\\n",
       "0      Retail & Consumer Products               Retail Assistants   \n",
       "1      Retail & Consumer Products               Retail Assistants   \n",
       "2      Retail & Consumer Products               Retail Assistants   \n",
       "3      Retail & Consumer Products               Retail Assistants   \n",
       "4  Call Centre & Customer Service                 Sales - Inbound   \n",
       "5  Call Centre & Customer Service  Customer Service - Call Centre   \n",
       "6           Hospitality & Tourism                   Waiting Staff   \n",
       "\n",
       "                                         Requirement  LowestSalary  \\\n",
       "0  Our Casual Stock Replenishers pride themselves...         15000   \n",
       "1  Our Casual Stock Replenishers pride themselves...         15000   \n",
       "2  BRAND NEW FLAGSHIP STORE OPENING - SUNSHINE PLAZA         15000   \n",
       "3  Bring it on - do you love the great outdoors a...         15000   \n",
       "4  We are seeking highly articulate, enthusiastic...         15000   \n",
       "5  We are seeking highly articulate, enthusiastic...         15000   \n",
       "6  A cafe/restaurant in Semaphore is seeking a ca...         15000   \n",
       "\n",
       "   HighestSalary JobType  AvgSalary  \n",
       "0          30000     NaN      22500  \n",
       "1          30000     NaN      22500  \n",
       "2          30000     NaN      22500  \n",
       "3          30000     NaN      22500  \n",
       "4          30000     NaN      22500  \n",
       "5          30000     NaN      22500  \n",
       "6          30000     NaN      22500  "
      ]
     },
     "execution_count": 89,
     "metadata": {},
     "output_type": "execute_result"
    }
   ],
   "source": [
    "# See our new column\n",
    "df.head(7)"
   ]
  },
  {
   "cell_type": "code",
   "execution_count": 90,
   "metadata": {},
   "outputs": [
    {
     "name": "stdout",
     "output_type": "stream",
     "text": [
      "Number of Titles containing Area: 12093\n",
      "Number of Titles containing Area: 0\n"
     ]
    }
   ],
   "source": [
    "# Remove area from titles and move to the area column\n",
    "print(\"Number of Titles containing Area:\", df['Title'].str.contains(' in ').sum())\n",
    "\n",
    "df.loc[df['Area'].isnull(), 'Area'] = df['Title'].str.split(' in ').str[1]\n",
    "df.loc[df['Title'].str.contains(' in '), 'Title'] = df['Title'].str.split(' in ').str[0]\n",
    "\n",
    "print(\"Number of Titles containing Area:\", df['Title'].str.contains(' in ').sum())"
   ]
  },
  {
   "cell_type": "code",
   "execution_count": 91,
   "metadata": {},
   "outputs": [
    {
     "data": {
      "text/html": [
       "<div>\n",
       "<style scoped>\n",
       "    .dataframe tbody tr th:only-of-type {\n",
       "        vertical-align: middle;\n",
       "    }\n",
       "\n",
       "    .dataframe tbody tr th {\n",
       "        vertical-align: top;\n",
       "    }\n",
       "\n",
       "    .dataframe thead th {\n",
       "        text-align: right;\n",
       "    }\n",
       "</style>\n",
       "<table border=\"1\" class=\"dataframe\">\n",
       "  <thead>\n",
       "    <tr style=\"text-align: right;\">\n",
       "      <th></th>\n",
       "      <th>Title</th>\n",
       "      <th>Company</th>\n",
       "      <th>Date</th>\n",
       "      <th>Location</th>\n",
       "      <th>Area</th>\n",
       "      <th>Classification</th>\n",
       "      <th>SubClassification</th>\n",
       "      <th>Requirement</th>\n",
       "      <th>JobType</th>\n",
       "      <th>LowestSalary</th>\n",
       "      <th>HighestSalary</th>\n",
       "      <th>AvgSalary</th>\n",
       "    </tr>\n",
       "  </thead>\n",
       "  <tbody>\n",
       "    <tr>\n",
       "      <th>0</th>\n",
       "      <td>Casual Stock Replenisher</td>\n",
       "      <td>Aldi Stores</td>\n",
       "      <td>2018-10-07</td>\n",
       "      <td>Sydney</td>\n",
       "      <td>North West &amp; Hills District</td>\n",
       "      <td>Retail &amp; Consumer Products</td>\n",
       "      <td>Retail Assistants</td>\n",
       "      <td>Our Casual Stock Replenishers pride themselves...</td>\n",
       "      <td>NaN</td>\n",
       "      <td>15000</td>\n",
       "      <td>30000</td>\n",
       "      <td>22500</td>\n",
       "    </tr>\n",
       "    <tr>\n",
       "      <th>1</th>\n",
       "      <td>Casual Stock Replenisher</td>\n",
       "      <td>Aldi Stores</td>\n",
       "      <td>2018-10-07</td>\n",
       "      <td>Richmond &amp; Hawkesbury</td>\n",
       "      <td>NaN</td>\n",
       "      <td>Retail &amp; Consumer Products</td>\n",
       "      <td>Retail Assistants</td>\n",
       "      <td>Our Casual Stock Replenishers pride themselves...</td>\n",
       "      <td>NaN</td>\n",
       "      <td>15000</td>\n",
       "      <td>30000</td>\n",
       "      <td>22500</td>\n",
       "    </tr>\n",
       "    <tr>\n",
       "      <th>2</th>\n",
       "      <td>RETAIL SALES SUPERSTARS and STYLISTS Wanted - ...</td>\n",
       "      <td>LB Creative Pty Ltd</td>\n",
       "      <td>2018-10-07</td>\n",
       "      <td>Brisbane</td>\n",
       "      <td>CBD &amp; Inner Suburbs</td>\n",
       "      <td>Retail &amp; Consumer Products</td>\n",
       "      <td>Retail Assistants</td>\n",
       "      <td>BRAND NEW FLAGSHIP STORE OPENING - SUNSHINE PLAZA</td>\n",
       "      <td>NaN</td>\n",
       "      <td>15000</td>\n",
       "      <td>30000</td>\n",
       "      <td>22500</td>\n",
       "    </tr>\n",
       "    <tr>\n",
       "      <th>3</th>\n",
       "      <td>Team member - Belrose</td>\n",
       "      <td>Anaconda Group Pty Ltd</td>\n",
       "      <td>2018-10-07</td>\n",
       "      <td>Gosford &amp; Central Coast</td>\n",
       "      <td>NaN</td>\n",
       "      <td>Retail &amp; Consumer Products</td>\n",
       "      <td>Retail Assistants</td>\n",
       "      <td>Bring it on - do you love the great outdoors a...</td>\n",
       "      <td>NaN</td>\n",
       "      <td>15000</td>\n",
       "      <td>30000</td>\n",
       "      <td>22500</td>\n",
       "    </tr>\n",
       "    <tr>\n",
       "      <th>4</th>\n",
       "      <td>Business Banking Contact Centre Specialist, Ni...</td>\n",
       "      <td>Commonwealth Bank - Business &amp; Private Banking</td>\n",
       "      <td>2018-10-07</td>\n",
       "      <td>Sydney</td>\n",
       "      <td>Ryde &amp; Macquarie Park</td>\n",
       "      <td>Call Centre &amp; Customer Service</td>\n",
       "      <td>Sales - Inbound</td>\n",
       "      <td>We are seeking highly articulate, enthusiastic...</td>\n",
       "      <td>NaN</td>\n",
       "      <td>15000</td>\n",
       "      <td>30000</td>\n",
       "      <td>22500</td>\n",
       "    </tr>\n",
       "  </tbody>\n",
       "</table>\n",
       "</div>"
      ],
      "text/plain": [
       "                                               Title  \\\n",
       "0                           Casual Stock Replenisher   \n",
       "1                           Casual Stock Replenisher   \n",
       "2  RETAIL SALES SUPERSTARS and STYLISTS Wanted - ...   \n",
       "3                              Team member - Belrose   \n",
       "4  Business Banking Contact Centre Specialist, Ni...   \n",
       "\n",
       "                                          Company       Date  \\\n",
       "0                                     Aldi Stores 2018-10-07   \n",
       "1                                     Aldi Stores 2018-10-07   \n",
       "2                             LB Creative Pty Ltd 2018-10-07   \n",
       "3                          Anaconda Group Pty Ltd 2018-10-07   \n",
       "4  Commonwealth Bank - Business & Private Banking 2018-10-07   \n",
       "\n",
       "                  Location                         Area  \\\n",
       "0                   Sydney  North West & Hills District   \n",
       "1    Richmond & Hawkesbury                          NaN   \n",
       "2                 Brisbane          CBD & Inner Suburbs   \n",
       "3  Gosford & Central Coast                          NaN   \n",
       "4                   Sydney        Ryde & Macquarie Park   \n",
       "\n",
       "                   Classification  SubClassification  \\\n",
       "0      Retail & Consumer Products  Retail Assistants   \n",
       "1      Retail & Consumer Products  Retail Assistants   \n",
       "2      Retail & Consumer Products  Retail Assistants   \n",
       "3      Retail & Consumer Products  Retail Assistants   \n",
       "4  Call Centre & Customer Service    Sales - Inbound   \n",
       "\n",
       "                                         Requirement JobType  LowestSalary  \\\n",
       "0  Our Casual Stock Replenishers pride themselves...     NaN         15000   \n",
       "1  Our Casual Stock Replenishers pride themselves...     NaN         15000   \n",
       "2  BRAND NEW FLAGSHIP STORE OPENING - SUNSHINE PLAZA     NaN         15000   \n",
       "3  Bring it on - do you love the great outdoors a...     NaN         15000   \n",
       "4  We are seeking highly articulate, enthusiastic...     NaN         15000   \n",
       "\n",
       "   HighestSalary  AvgSalary  \n",
       "0          30000      22500  \n",
       "1          30000      22500  \n",
       "2          30000      22500  \n",
       "3          30000      22500  \n",
       "4          30000      22500  "
      ]
     },
     "execution_count": 91,
     "metadata": {},
     "output_type": "execute_result"
    }
   ],
   "source": [
    "# move JobType column up the dataframe so that all the salaries are together\n",
    "cols = list(df)\n",
    "cols.insert(8, cols.pop(cols.index('JobType')))\n",
    "df = df.loc[:, cols]\n",
    "df.head()"
   ]
  },
  {
   "cell_type": "code",
   "execution_count": 92,
   "metadata": {},
   "outputs": [],
   "source": [
    "# We don't need to run this code here BUT we will filter out NaN values when we are analysing a specific factor\n",
    "# e.g. When we are looking at Location, we can remove all the NaN location values just for that.\n",
    "\n",
    "\n",
    "# df = df.dropna(subset='Location', axis = 0, how ='any')\n"
   ]
  },
  {
   "cell_type": "code",
   "execution_count": 93,
   "metadata": {},
   "outputs": [],
   "source": [
    "# Normalising the data\n",
    "df_norm = df.copy() # Create a copy of the DataFrame that will be using normalized values\n",
    "\n",
    "columns_to_normalize = ['LowestSalary','HighestSalary','AvgSalary'] # Normalize our columns with int values\n",
    "\n",
    "scaler = StandardScaler() # Declare the standard scaler for normalizing\n",
    "df_norm[columns_to_normalize] = scaler.fit_transform(df_norm[columns_to_normalize]) # Fit and transform our data"
   ]
  },
  {
   "cell_type": "code",
   "execution_count": 94,
   "metadata": {},
   "outputs": [
    {
     "data": {
      "text/html": [
       "<div>\n",
       "<style scoped>\n",
       "    .dataframe tbody tr th:only-of-type {\n",
       "        vertical-align: middle;\n",
       "    }\n",
       "\n",
       "    .dataframe tbody tr th {\n",
       "        vertical-align: top;\n",
       "    }\n",
       "\n",
       "    .dataframe thead th {\n",
       "        text-align: right;\n",
       "    }\n",
       "</style>\n",
       "<table border=\"1\" class=\"dataframe\">\n",
       "  <thead>\n",
       "    <tr style=\"text-align: right;\">\n",
       "      <th></th>\n",
       "      <th>Title</th>\n",
       "      <th>Company</th>\n",
       "      <th>Date</th>\n",
       "      <th>Location</th>\n",
       "      <th>Area</th>\n",
       "      <th>Classification</th>\n",
       "      <th>SubClassification</th>\n",
       "      <th>Requirement</th>\n",
       "      <th>JobType</th>\n",
       "      <th>LowestSalary</th>\n",
       "      <th>HighestSalary</th>\n",
       "      <th>AvgSalary</th>\n",
       "    </tr>\n",
       "  </thead>\n",
       "  <tbody>\n",
       "    <tr>\n",
       "      <th>0</th>\n",
       "      <td>Casual Stock Replenisher</td>\n",
       "      <td>Aldi Stores</td>\n",
       "      <td>2018-10-07</td>\n",
       "      <td>Sydney</td>\n",
       "      <td>North West &amp; Hills District</td>\n",
       "      <td>Retail &amp; Consumer Products</td>\n",
       "      <td>Retail Assistants</td>\n",
       "      <td>Our Casual Stock Replenishers pride themselves...</td>\n",
       "      <td>NaN</td>\n",
       "      <td>-1.126220</td>\n",
       "      <td>-0.920415</td>\n",
       "      <td>-1.011335</td>\n",
       "    </tr>\n",
       "    <tr>\n",
       "      <th>1</th>\n",
       "      <td>Casual Stock Replenisher</td>\n",
       "      <td>Aldi Stores</td>\n",
       "      <td>2018-10-07</td>\n",
       "      <td>Richmond &amp; Hawkesbury</td>\n",
       "      <td>NaN</td>\n",
       "      <td>Retail &amp; Consumer Products</td>\n",
       "      <td>Retail Assistants</td>\n",
       "      <td>Our Casual Stock Replenishers pride themselves...</td>\n",
       "      <td>NaN</td>\n",
       "      <td>-1.126220</td>\n",
       "      <td>-0.920415</td>\n",
       "      <td>-1.011335</td>\n",
       "    </tr>\n",
       "    <tr>\n",
       "      <th>2</th>\n",
       "      <td>RETAIL SALES SUPERSTARS and STYLISTS Wanted - ...</td>\n",
       "      <td>LB Creative Pty Ltd</td>\n",
       "      <td>2018-10-07</td>\n",
       "      <td>Brisbane</td>\n",
       "      <td>CBD &amp; Inner Suburbs</td>\n",
       "      <td>Retail &amp; Consumer Products</td>\n",
       "      <td>Retail Assistants</td>\n",
       "      <td>BRAND NEW FLAGSHIP STORE OPENING - SUNSHINE PLAZA</td>\n",
       "      <td>NaN</td>\n",
       "      <td>-1.126220</td>\n",
       "      <td>-0.920415</td>\n",
       "      <td>-1.011335</td>\n",
       "    </tr>\n",
       "    <tr>\n",
       "      <th>3</th>\n",
       "      <td>Team member - Belrose</td>\n",
       "      <td>Anaconda Group Pty Ltd</td>\n",
       "      <td>2018-10-07</td>\n",
       "      <td>Gosford &amp; Central Coast</td>\n",
       "      <td>NaN</td>\n",
       "      <td>Retail &amp; Consumer Products</td>\n",
       "      <td>Retail Assistants</td>\n",
       "      <td>Bring it on - do you love the great outdoors a...</td>\n",
       "      <td>NaN</td>\n",
       "      <td>-1.126220</td>\n",
       "      <td>-0.920415</td>\n",
       "      <td>-1.011335</td>\n",
       "    </tr>\n",
       "    <tr>\n",
       "      <th>4</th>\n",
       "      <td>Business Banking Contact Centre Specialist, Ni...</td>\n",
       "      <td>Commonwealth Bank - Business &amp; Private Banking</td>\n",
       "      <td>2018-10-07</td>\n",
       "      <td>Sydney</td>\n",
       "      <td>Ryde &amp; Macquarie Park</td>\n",
       "      <td>Call Centre &amp; Customer Service</td>\n",
       "      <td>Sales - Inbound</td>\n",
       "      <td>We are seeking highly articulate, enthusiastic...</td>\n",
       "      <td>NaN</td>\n",
       "      <td>-1.126220</td>\n",
       "      <td>-0.920415</td>\n",
       "      <td>-1.011335</td>\n",
       "    </tr>\n",
       "    <tr>\n",
       "      <th>...</th>\n",
       "      <td>...</td>\n",
       "      <td>...</td>\n",
       "      <td>...</td>\n",
       "      <td>...</td>\n",
       "      <td>...</td>\n",
       "      <td>...</td>\n",
       "      <td>...</td>\n",
       "      <td>...</td>\n",
       "      <td>...</td>\n",
       "      <td>...</td>\n",
       "      <td>...</td>\n",
       "      <td>...</td>\n",
       "    </tr>\n",
       "    <tr>\n",
       "      <th>318472</th>\n",
       "      <td>Program Manager - Trade Reporting</td>\n",
       "      <td>Talenza</td>\n",
       "      <td>2019-03-13</td>\n",
       "      <td>NaN</td>\n",
       "      <td>NaN</td>\n",
       "      <td>NaN</td>\n",
       "      <td>NaN</td>\n",
       "      <td>Our client is a large Financial Services firm ...</td>\n",
       "      <td>NaN</td>\n",
       "      <td>2.775087</td>\n",
       "      <td>3.296111</td>\n",
       "      <td>3.084672</td>\n",
       "    </tr>\n",
       "    <tr>\n",
       "      <th>318473</th>\n",
       "      <td>Web Content Writer - June 2019 contract</td>\n",
       "      <td>Talent – Winner ‘Seek Large Recruitment Agency...</td>\n",
       "      <td>2019-03-13</td>\n",
       "      <td>NaN</td>\n",
       "      <td>NaN</td>\n",
       "      <td>NaN</td>\n",
       "      <td>NaN</td>\n",
       "      <td>You will be able to write clearly and concisel...</td>\n",
       "      <td>NaN</td>\n",
       "      <td>2.775087</td>\n",
       "      <td>3.296111</td>\n",
       "      <td>3.084672</td>\n",
       "    </tr>\n",
       "    <tr>\n",
       "      <th>318474</th>\n",
       "      <td>Brand Director - Global Premium Brand</td>\n",
       "      <td>Retail Career Consulting Pty Ltd</td>\n",
       "      <td>2019-03-12</td>\n",
       "      <td>NaN</td>\n",
       "      <td>NaN</td>\n",
       "      <td>NaN</td>\n",
       "      <td>NaN</td>\n",
       "      <td>Newly created Brand Director AUS. Must be comm...</td>\n",
       "      <td>NaN</td>\n",
       "      <td>2.775087</td>\n",
       "      <td>3.296111</td>\n",
       "      <td>3.084672</td>\n",
       "    </tr>\n",
       "    <tr>\n",
       "      <th>318475</th>\n",
       "      <td>Head of Financial Planning, Reporting &amp; Strategy</td>\n",
       "      <td>Moir Group</td>\n",
       "      <td>2019-03-08</td>\n",
       "      <td>NaN</td>\n",
       "      <td>NaN</td>\n",
       "      <td>NaN</td>\n",
       "      <td>NaN</td>\n",
       "      <td>High-quality manufacturing organisation. Excit...</td>\n",
       "      <td>NaN</td>\n",
       "      <td>2.775087</td>\n",
       "      <td>3.296111</td>\n",
       "      <td>3.084672</td>\n",
       "    </tr>\n",
       "    <tr>\n",
       "      <th>318476</th>\n",
       "      <td>Head of Operations - EOI</td>\n",
       "      <td>Austcorp Executive</td>\n",
       "      <td>2019-03-13</td>\n",
       "      <td>NaN</td>\n",
       "      <td>NaN</td>\n",
       "      <td>NaN</td>\n",
       "      <td>NaN</td>\n",
       "      <td>Expressions of interest for a leadership role</td>\n",
       "      <td>NaN</td>\n",
       "      <td>2.775087</td>\n",
       "      <td>3.296111</td>\n",
       "      <td>3.084672</td>\n",
       "    </tr>\n",
       "  </tbody>\n",
       "</table>\n",
       "<p>308486 rows × 12 columns</p>\n",
       "</div>"
      ],
      "text/plain": [
       "                                                    Title  \\\n",
       "0                                Casual Stock Replenisher   \n",
       "1                                Casual Stock Replenisher   \n",
       "2       RETAIL SALES SUPERSTARS and STYLISTS Wanted - ...   \n",
       "3                                   Team member - Belrose   \n",
       "4       Business Banking Contact Centre Specialist, Ni...   \n",
       "...                                                   ...   \n",
       "318472                  Program Manager - Trade Reporting   \n",
       "318473            Web Content Writer - June 2019 contract   \n",
       "318474              Brand Director - Global Premium Brand   \n",
       "318475   Head of Financial Planning, Reporting & Strategy   \n",
       "318476                           Head of Operations - EOI   \n",
       "\n",
       "                                                  Company       Date  \\\n",
       "0                                             Aldi Stores 2018-10-07   \n",
       "1                                             Aldi Stores 2018-10-07   \n",
       "2                                     LB Creative Pty Ltd 2018-10-07   \n",
       "3                                  Anaconda Group Pty Ltd 2018-10-07   \n",
       "4          Commonwealth Bank - Business & Private Banking 2018-10-07   \n",
       "...                                                   ...        ...   \n",
       "318472                                            Talenza 2019-03-13   \n",
       "318473  Talent – Winner ‘Seek Large Recruitment Agency... 2019-03-13   \n",
       "318474                   Retail Career Consulting Pty Ltd 2019-03-12   \n",
       "318475                                         Moir Group 2019-03-08   \n",
       "318476                                 Austcorp Executive 2019-03-13   \n",
       "\n",
       "                       Location                         Area  \\\n",
       "0                        Sydney  North West & Hills District   \n",
       "1         Richmond & Hawkesbury                          NaN   \n",
       "2                      Brisbane          CBD & Inner Suburbs   \n",
       "3       Gosford & Central Coast                          NaN   \n",
       "4                        Sydney        Ryde & Macquarie Park   \n",
       "...                         ...                          ...   \n",
       "318472                      NaN                          NaN   \n",
       "318473                      NaN                          NaN   \n",
       "318474                      NaN                          NaN   \n",
       "318475                      NaN                          NaN   \n",
       "318476                      NaN                          NaN   \n",
       "\n",
       "                        Classification  SubClassification  \\\n",
       "0           Retail & Consumer Products  Retail Assistants   \n",
       "1           Retail & Consumer Products  Retail Assistants   \n",
       "2           Retail & Consumer Products  Retail Assistants   \n",
       "3           Retail & Consumer Products  Retail Assistants   \n",
       "4       Call Centre & Customer Service    Sales - Inbound   \n",
       "...                                ...                ...   \n",
       "318472                             NaN                NaN   \n",
       "318473                             NaN                NaN   \n",
       "318474                             NaN                NaN   \n",
       "318475                             NaN                NaN   \n",
       "318476                             NaN                NaN   \n",
       "\n",
       "                                              Requirement JobType  \\\n",
       "0       Our Casual Stock Replenishers pride themselves...     NaN   \n",
       "1       Our Casual Stock Replenishers pride themselves...     NaN   \n",
       "2       BRAND NEW FLAGSHIP STORE OPENING - SUNSHINE PLAZA     NaN   \n",
       "3       Bring it on - do you love the great outdoors a...     NaN   \n",
       "4       We are seeking highly articulate, enthusiastic...     NaN   \n",
       "...                                                   ...     ...   \n",
       "318472  Our client is a large Financial Services firm ...     NaN   \n",
       "318473  You will be able to write clearly and concisel...     NaN   \n",
       "318474  Newly created Brand Director AUS. Must be comm...     NaN   \n",
       "318475  High-quality manufacturing organisation. Excit...     NaN   \n",
       "318476      Expressions of interest for a leadership role     NaN   \n",
       "\n",
       "        LowestSalary  HighestSalary  AvgSalary  \n",
       "0          -1.126220      -0.920415  -1.011335  \n",
       "1          -1.126220      -0.920415  -1.011335  \n",
       "2          -1.126220      -0.920415  -1.011335  \n",
       "3          -1.126220      -0.920415  -1.011335  \n",
       "4          -1.126220      -0.920415  -1.011335  \n",
       "...              ...            ...        ...  \n",
       "318472      2.775087       3.296111   3.084672  \n",
       "318473      2.775087       3.296111   3.084672  \n",
       "318474      2.775087       3.296111   3.084672  \n",
       "318475      2.775087       3.296111   3.084672  \n",
       "318476      2.775087       3.296111   3.084672  \n",
       "\n",
       "[308486 rows x 12 columns]"
      ]
     },
     "execution_count": 94,
     "metadata": {},
     "output_type": "execute_result"
    }
   ],
   "source": [
    "# See our new normalized data\n",
    "df_norm"
   ]
  },
  {
   "cell_type": "markdown",
   "metadata": {},
   "source": [
    "### Dataset overview\n",
    "< Will copy paste from documentation >\n",
    "\n",
    "### Data preperation and preprosessing\n",
    "< Will copy paste from documentation >\n",
    "\n",
    "### Hypothesis\n",
    "< Will copy paste from documentation >\n",
    "\n"
   ]
  },
  {
   "cell_type": "markdown",
   "metadata": {},
   "source": [
    "## Part 2 - Data Analysis and Interpretation"
   ]
  },
  {
   "cell_type": "markdown",
   "metadata": {},
   "source": [
    "### Job metadata\n",
    "Extract the relevant information to describe the job’s\n",
    "attributes.\n",
    "For example:\n",
    "- What is the sector, sub-sector of each job?\n",
    "- Where is the location of the job?\n",
    "- Which is the range of salaries for each job?"
   ]
  },
  {
   "cell_type": "code",
   "execution_count": 95,
   "metadata": {},
   "outputs": [
    {
     "data": {
      "text/html": [
       "<div>\n",
       "<style scoped>\n",
       "    .dataframe tbody tr th:only-of-type {\n",
       "        vertical-align: middle;\n",
       "    }\n",
       "\n",
       "    .dataframe tbody tr th {\n",
       "        vertical-align: top;\n",
       "    }\n",
       "\n",
       "    .dataframe thead th {\n",
       "        text-align: right;\n",
       "    }\n",
       "</style>\n",
       "<table border=\"1\" class=\"dataframe\">\n",
       "  <thead>\n",
       "    <tr style=\"text-align: right;\">\n",
       "      <th></th>\n",
       "      <th>Title</th>\n",
       "      <th>Company</th>\n",
       "      <th>Date</th>\n",
       "      <th>Location</th>\n",
       "      <th>Area</th>\n",
       "      <th>Classification</th>\n",
       "      <th>SubClassification</th>\n",
       "      <th>Requirement</th>\n",
       "      <th>JobType</th>\n",
       "      <th>LowestSalary</th>\n",
       "      <th>HighestSalary</th>\n",
       "      <th>AvgSalary</th>\n",
       "    </tr>\n",
       "  </thead>\n",
       "  <tbody>\n",
       "  </tbody>\n",
       "</table>\n",
       "</div>"
      ],
      "text/plain": [
       "Empty DataFrame\n",
       "Columns: [Title, Company, Date, Location, Area, Classification, SubClassification, Requirement, JobType, LowestSalary, HighestSalary, AvgSalary]\n",
       "Index: []"
      ]
     },
     "execution_count": 95,
     "metadata": {},
     "output_type": "execute_result"
    }
   ],
   "source": [
    "df.head(0)"
   ]
  },
  {
   "cell_type": "code",
   "execution_count": 96,
   "metadata": {},
   "outputs": [
    {
     "data": {
      "text/plain": [
       "Information & Communication Technology    22683\n",
       "Trades & Services                         17910\n",
       "Healthcare & Medical                      16991\n",
       "Hospitality & Tourism                     15483\n",
       "Manufacturing, Transport & Logistics      12324\n",
       "Administration & Office Support            9987\n",
       "Accounting                                 9340\n",
       "Education & Training                       9131\n",
       "Construction                               8339\n",
       "Sales                                      8076\n",
       "Retail & Consumer Products                 8006\n",
       "Government & Defence                       7191\n",
       "Engineering                                6426\n",
       "Mining, Resources & Energy                 6258\n",
       "Banking & Financial Services               4616\n",
       "Community Services & Development           4452\n",
       "Legal                                      4221\n",
       "Human Resources & Recruitment              4112\n",
       "Marketing & Communications                 3959\n",
       "Call Centre & Customer Service             3947\n",
       "Real Estate & Property                     3598\n",
       "Design & Architecture                      1806\n",
       "Insurance & Superannuation                 1461\n",
       "Consulting & Strategy                      1197\n",
       "Sport & Recreation                          980\n",
       "Science & Technology                        905\n",
       "Farming, Animals & Conservation             881\n",
       "CEO & General Management                    837\n",
       "Advertising, Arts & Media                   829\n",
       "Self Employment                              93\n",
       "Name: Classification, dtype: int64"
      ]
     },
     "execution_count": 96,
     "metadata": {},
     "output_type": "execute_result"
    }
   ],
   "source": [
    "# How is the data spread out across all job types?\n",
    "df['Classification'].value_counts()"
   ]
  },
  {
   "cell_type": "code",
   "execution_count": 97,
   "metadata": {},
   "outputs": [
    {
     "data": {
      "text/plain": [
       "Developers/Programmers                   4189\n",
       "Business/Systems Analysts                2958\n",
       "Programme & Project Management           2400\n",
       "Architects                               1540\n",
       "Engineering - Software                   1429\n",
       "Help Desk & IT Support                   1371\n",
       "Networks & Systems Administration        1190\n",
       "Consultants                              1145\n",
       "Other                                     996\n",
       "Testing & Quality Assurance               827\n",
       "Security                                  772\n",
       "Management                                745\n",
       "Engineering - Network                     550\n",
       "Database Development & Administration     548\n",
       "Web Development & Production              452\n",
       "Sales - Pre & Post                        444\n",
       "Product Management & Development          376\n",
       "Telecommunications                        353\n",
       "Team Leaders                              173\n",
       "Engineering - Hardware                    116\n",
       "Technical Writing                          96\n",
       "Computer Operators                         13\n",
       "Name: SubClassification, dtype: int64"
      ]
     },
     "execution_count": 97,
     "metadata": {},
     "output_type": "execute_result"
    }
   ],
   "source": [
    "# IT jobs\n",
    "df_IT = df['SubClassification'].loc[df['Classification'] == 'Information & Communication Technology']\n",
    "\n",
    "# What is the spread of IT job listings?\n",
    "df_IT.value_counts()"
   ]
  },
  {
   "cell_type": "code",
   "execution_count": 98,
   "metadata": {},
   "outputs": [
    {
     "data": {
      "image/png": "[encoded data removed]",
      "text/plain": [
       "<Figure size 1080x720 with 1 Axes>"
      ]
     },
     "metadata": {
      "needs_background": "light"
     },
     "output_type": "display_data"
    }
   ],
   "source": [
    "# Histogram that shows the frequency of IT jobs\n",
    "f, ax = plt.subplots(figsize=(15, 10))\n",
    "df_IT.value_counts().head(25).plot(ax=ax, kind='bar')\n",
    "f.autofmt_xdate()\n",
    "plt.title(\"Job Frequency for IT Jobs\", fontsize=30)\n",
    "plt.ylabel(\"No. of Available Jobs\", fontsize=15)\n",
    "plt.xlabel(\"IT Jobs\", fontsize=15)\n",
    "plt.show()"
   ]
  },
  {
   "cell_type": "code",
   "execution_count": 99,
   "metadata": {},
   "outputs": [],
   "source": [
    "# Where are these IT jobs located?"
   ]
  },
  {
   "cell_type": "code",
   "execution_count": 100,
   "metadata": {},
   "outputs": [],
   "source": [
    "# What is the range of salaries for these IT jobs?"
   ]
  },
  {
   "cell_type": "markdown",
   "metadata": {},
   "source": [
    "#### Interesting points about metadata so far:\n",
    "- IT jobs are the most frequently listed.\n",
    "- Among IT jobs, Developers/Programmers are the most popular"
   ]
  },
  {
   "cell_type": "markdown",
   "metadata": {},
   "source": [
    "### Market by location\n",
    "For example:\n",
    "- What is the market size in each city? Which are the hottest job sectors in\n",
    "each city?\n",
    "- Which range of salary is common in each city? Where are the employees\n",
    "more well-paid?\n",
    "- Can you detect the pattern of posting: e.g. are more jobs posted at the\n",
    "beginning of month?"
   ]
  },
  {
   "cell_type": "code",
   "execution_count": 101,
   "metadata": {},
   "outputs": [
    {
     "data": {
      "text/plain": [
       "Sydney                                  60374\n",
       "Melbourne                               46428\n",
       "Brisbane                                21335\n",
       "Perth                                   13138\n",
       "Adelaide                                 6606\n",
       "                                        ...  \n",
       "Yorke Peninsula & Clare Valley             94\n",
       "Tumut, Snowy & Monaro                      86\n",
       "Somerset & Lockyer                         65\n",
       "Fleurieu Peninsula & Kangaroo Island       64\n",
       "Central & South East TAS                   57\n",
       "Name: Location, Length: 65, dtype: int64"
      ]
     },
     "execution_count": 101,
     "metadata": {},
     "output_type": "execute_result"
    }
   ],
   "source": [
    "# How is the data spread out across locations?\n",
    "df['Location'].value_counts()"
   ]
  },
  {
   "cell_type": "code",
   "execution_count": 102,
   "metadata": {},
   "outputs": [
    {
     "data": {
      "image/png": "[encoded data removed]",
      "text/plain": [
       "<Figure size 1080x720 with 1 Axes>"
      ]
     },
     "metadata": {
      "needs_background": "light"
     },
     "output_type": "display_data"
    }
   ],
   "source": [
    "# Histogram that shows the frequency of jobs in locations\n",
    "f, ax = plt.subplots(figsize=(15, 10))\n",
    "df['Location'].value_counts().head(25).plot(ax=ax, kind='bar')\n",
    "f.autofmt_xdate()\n",
    "plt.title(\"Job Frequency for Locations (Top 25)\", fontsize=30)\n",
    "plt.ylabel(\"No. of Available Jobs\", fontsize=15)\n",
    "plt.xlabel(\"Locations\", fontsize=15)\n",
    "plt.show()"
   ]
  },
  {
   "cell_type": "code",
   "execution_count": 103,
   "metadata": {},
   "outputs": [
    {
     "data": {
      "text/plain": [
       "Text(0.5, 0, 'Locations')"
      ]
     },
     "execution_count": 103,
     "metadata": {},
     "output_type": "execute_result"
    },
    {
     "data": {
      "image/png": "[encoded data removed]",
      "text/plain": [
       "<Figure size 1080x720 with 1 Axes>"
      ]
     },
     "metadata": {
      "needs_background": "light"
     },
     "output_type": "display_data"
    }
   ],
   "source": [
    "# - A histogram that shows mean(AverageSalary) for each location\n",
    "\n",
    "top25loc = df['Location'].value_counts().head(25).index.tolist()\n",
    "top25avgsal = []\n",
    "top25highsal = []\n",
    "top25lowsal = []\n",
    "\n",
    "for x in top25loc:\n",
    "    temp = (df[df['Location'] == x])\n",
    "    top25avgsal.append(temp['AvgSalary'].mean())\n",
    "    top25highsal.append(temp['HighestSalary'].mean())\n",
    "    top25lowsal.append(temp['LowestSalary'].mean())\n",
    "    \n",
    "data = {'Location': top25loc, 'HighestSalary': top25highsal,\n",
    "        'LowestSalary': top25lowsal, 'AvgSalary': top25avgsal} \n",
    "df_sal = pd.DataFrame (data, columns = ['Location', 'HighestSalary', 'LowestSalary', 'AvgSalary'])\n",
    "\n",
    "df_sal.plot(kind='bar', figsize = (15,10))\n",
    "plt.title(\"Average Salaries (Top 25)\", fontsize=30)\n",
    "plt.xticks(np.arange(25), top25loc)\n",
    "plt.ylabel(\"Average Salaries ($)\", fontsize=15)\n",
    "plt.xlabel(\"Locations\", fontsize=15)"
   ]
  },
  {
   "cell_type": "code",
   "execution_count": 104,
   "metadata": {},
   "outputs": [
    {
     "data": {
      "text/html": [
       "<div>\n",
       "<style scoped>\n",
       "    .dataframe tbody tr th:only-of-type {\n",
       "        vertical-align: middle;\n",
       "    }\n",
       "\n",
       "    .dataframe tbody tr th {\n",
       "        vertical-align: top;\n",
       "    }\n",
       "\n",
       "    .dataframe thead th {\n",
       "        text-align: right;\n",
       "    }\n",
       "</style>\n",
       "<table border=\"1\" class=\"dataframe\">\n",
       "  <thead>\n",
       "    <tr style=\"text-align: right;\">\n",
       "      <th></th>\n",
       "      <th>day</th>\n",
       "      <th>month</th>\n",
       "      <th>year</th>\n",
       "    </tr>\n",
       "  </thead>\n",
       "  <tbody>\n",
       "    <tr>\n",
       "      <th>0</th>\n",
       "      <td>7</td>\n",
       "      <td>10</td>\n",
       "      <td>2018</td>\n",
       "    </tr>\n",
       "    <tr>\n",
       "      <th>1</th>\n",
       "      <td>7</td>\n",
       "      <td>10</td>\n",
       "      <td>2018</td>\n",
       "    </tr>\n",
       "    <tr>\n",
       "      <th>2</th>\n",
       "      <td>7</td>\n",
       "      <td>10</td>\n",
       "      <td>2018</td>\n",
       "    </tr>\n",
       "    <tr>\n",
       "      <th>3</th>\n",
       "      <td>7</td>\n",
       "      <td>10</td>\n",
       "      <td>2018</td>\n",
       "    </tr>\n",
       "    <tr>\n",
       "      <th>4</th>\n",
       "      <td>7</td>\n",
       "      <td>10</td>\n",
       "      <td>2018</td>\n",
       "    </tr>\n",
       "  </tbody>\n",
       "</table>\n",
       "</div>"
      ],
      "text/plain": [
       "   day  month  year\n",
       "0    7     10  2018\n",
       "1    7     10  2018\n",
       "2    7     10  2018\n",
       "3    7     10  2018\n",
       "4    7     10  2018"
      ]
     },
     "execution_count": 104,
     "metadata": {},
     "output_type": "execute_result"
    }
   ],
   "source": [
    "# Create dataframe for date/posting trends\n",
    "dates_df = df.filter(['Date'], axis=1)\n",
    "dates_df['Date'] = dates_df['Date'].astype('datetime64[ns]')\n",
    "dates_df['day'] = df['Date'].dt.day\n",
    "dates_df['month'] = df['Date'].dt.month\n",
    "dates_df['year'] = df['Date'].dt.year\n",
    "dates_df = dates_df.drop('Date', axis=1)\n",
    "dates_df.head()"
   ]
  },
  {
   "cell_type": "code",
   "execution_count": 105,
   "metadata": {},
   "outputs": [
    {
     "data": {
      "image/png": "[encoded data removed]",
      "text/plain": [
       "<Figure size 1080x720 with 1 Axes>"
      ]
     },
     "metadata": {
      "needs_background": "light"
     },
     "output_type": "display_data"
    }
   ],
   "source": [
    "# Histogram that shows the frequency of jobs in locations\n",
    "\n",
    "f, ax = plt.subplots(figsize=(15, 10))\n",
    "# dates_df['day'].value_counts().plot(ax=ax, kind='bar')\n",
    "dates_df.groupby(\"day\")['day'].value_counts().plot(kind='bar')\n",
    "f.autofmt_xdate()\n",
    "plt.title(\"Posting Frequency Days in Month\", fontsize=30)\n",
    "plt.ylabel(\"Number of Job Postings\", fontsize=15)\n",
    "plt.xticks(np.arange(31), [x for x in range(1,32)])\n",
    "plt.xlabel(\"Day of Month\", fontsize=15)\n",
    "plt.show()\n"
   ]
  },
  {
   "cell_type": "code",
   "execution_count": 106,
   "metadata": {},
   "outputs": [
    {
     "data": {
      "image/png": "[encoded data removed]",
      "text/plain": [
       "<Figure size 1080x360 with 2 Axes>"
      ]
     },
     "metadata": {
      "needs_background": "light"
     },
     "output_type": "display_data"
    }
   ],
   "source": [
    "# def group_by_third(d):\n",
    "#     if d['day'] <= 10:\n",
    "#         return 'first'\n",
    "#     elif d['day'] <= 20:\n",
    "#         return 'second'\n",
    "#     else:\n",
    "#         return 'third'\n",
    "\n",
    "# dates_df['third'] = dates_df.apply(group_by_third, axis=1)\n",
    "\n",
    "fig, axs = plt.subplots(1, 2, figsize=(15, 5), sharey=True, tight_layout=True)\n",
    "axs[0].hist(dates_df['day'], bins=4)\n",
    "axs[0].set_title('4 Bin - Frequency', fontsize=20)\n",
    "axs[0].set_xlabel('Days within Month')\n",
    "axs[0].set_ylabel('Number of Job Postings')\n",
    "axs[1].hist(dates_df['day'], bins=6)\n",
    "axs[1].set_title('6 Bin - Frequency', fontsize=20)\n",
    "axs[1].set_xlabel('Days within Month')\n",
    "axs[1].set_ylabel('Number of Job Postings')\n",
    "plt.show()\n"
   ]
  },
  {
   "cell_type": "code",
   "execution_count": 107,
   "metadata": {},
   "outputs": [
    {
     "data": {
      "image/png": "[encoded data removed]",
      "text/plain": [
       "<Figure size 1080x720 with 1 Axes>"
      ]
     },
     "metadata": {
      "needs_background": "light"
     },
     "output_type": "display_data"
    }
   ],
   "source": [
    "# Histogram that shows the frequency of jobs in locations\n",
    "f, ax = plt.subplots(figsize=(15, 10))\n",
    "# dates_df['month'].value_counts().plot(ax=ax, kind='bar')\n",
    "dates_df.groupby(\"month\")['month'].value_counts().plot(kind='bar')\n",
    "f.autofmt_xdate()\n",
    "plt.title(\"Posting Frequency Per Month\", fontsize=30)\n",
    "plt.ylabel(\"Number of Job Postings\", fontsize=15)\n",
    "plt.xticks(np.arange(6), ['Oct 18', 'Nov 18', 'Dec 18', 'Jan 19', 'Feb 19', 'Mar 19'])\n",
    "plt.xlabel(\"Month\", fontsize=15)\n",
    "plt.show()"
   ]
  },
  {
   "cell_type": "code",
   "execution_count": 108,
   "metadata": {},
   "outputs": [],
   "source": [
    "# Heat map\n",
    "\n",
    "# Correlation\n",
    "# pd.plotting.scatter_matrix(df_norm, alpha=0.2, figsize=(10,10))\n",
    "# plt.show()\n",
    "\n",
    "# yeah not sure about that one..."
   ]
  },
  {
   "cell_type": "code",
   "execution_count": 109,
   "metadata": {},
   "outputs": [],
   "source": [
    "# Regression test"
   ]
  },
  {
   "cell_type": "markdown",
   "metadata": {},
   "source": [
    "### Market by sectors\n",
    "For example:\n",
    "- Which sectors keep the highest market share?\n",
    "- In each sector, which sub-sectors are the main spotlights?\n",
    "- What is the salary range for each sector/sub-sector? Can you compare salary\n",
    "range between sectors/subsectors?\n",
    "- What is the trending of market i.e. if a high school student ask you which\n",
    "subject should he/she learn in the university (to guarantee a job in a future),\n",
    "what is your advice?\n",
    "- Can you detect which skills are required in each sector?"
   ]
  },
  {
   "cell_type": "code",
   "execution_count": null,
   "metadata": {},
   "outputs": [],
   "source": []
  },
  {
   "cell_type": "markdown",
   "metadata": {},
   "source": [
    "## Part 3 - Evaluation"
   ]
  },
  {
   "cell_type": "code",
   "execution_count": null,
   "metadata": {},
   "outputs": [],
   "source": []
  }
 ],
 "metadata": {
  "kernelspec": {
   "display_name": "Python 3",
   "language": "python",
   "name": "python3"
  },
  "language_info": {
   "codemirror_mode": {
    "name": "ipython",
    "version": 3
   },
   "file_extension": ".py",
   "mimetype": "text/x-python",
   "name": "python",
   "nbconvert_exporter": "python",
   "pygments_lexer": "ipython3",
   "version": "3.7.6"
  }
 },
 "nbformat": 4,
 "nbformat_minor": 4
}
